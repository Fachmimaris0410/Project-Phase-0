{
 "cells": [
  {
   "cell_type": "markdown",
   "metadata": {},
   "source": [
    "# AUSTIN WASTE ANALYSIS\n",
    "\n",
    "Nama  : Fachmi Maris\n",
    "Batch : 002"
   ]
  },
  {
   "cell_type": "markdown",
   "metadata": {},
   "source": [
    "## Memilih Data dari BigQuery\n",
    "\n",
    "SELECT report_date, load_time, load_type, load_weight, dropoff_site  FROM `bigquery-public-data.austin_waste.waste_and_diversion`\n",
    "WHERE report_date > \"2020-12-31\" AND report_date< \"2021-07-09\"\n",
    "ORDER BY report_date ASC;"
   ]
  },
  {
   "cell_type": "code",
   "execution_count": 139,
   "metadata": {},
   "outputs": [],
   "source": [
    "import pandas as pd\n",
    "import numpy as np\n",
    "import matplotlib.pyplot as plt\n",
    "from scipy import stats\n",
    "import seaborn as sns\n",
    "from datetime import datetime"
   ]
  },
  {
   "cell_type": "code",
   "execution_count": 140,
   "metadata": {},
   "outputs": [
    {
     "data": {
      "text/html": [
       "<div>\n",
       "<style scoped>\n",
       "    .dataframe tbody tr th:only-of-type {\n",
       "        vertical-align: middle;\n",
       "    }\n",
       "\n",
       "    .dataframe tbody tr th {\n",
       "        vertical-align: top;\n",
       "    }\n",
       "\n",
       "    .dataframe thead th {\n",
       "        text-align: right;\n",
       "    }\n",
       "</style>\n",
       "<table border=\"1\" class=\"dataframe\">\n",
       "  <thead>\n",
       "    <tr style=\"text-align: right;\">\n",
       "      <th></th>\n",
       "      <th>report_date</th>\n",
       "      <th>load_time</th>\n",
       "      <th>load_type</th>\n",
       "      <th>load_weight</th>\n",
       "      <th>dropoff_site</th>\n",
       "    </tr>\n",
       "  </thead>\n",
       "  <tbody>\n",
       "    <tr>\n",
       "      <th>0</th>\n",
       "      <td>2021-01-01</td>\n",
       "      <td>2021-01-01 12:00:00 UTC</td>\n",
       "      <td>SWEEPING</td>\n",
       "      <td>NaN</td>\n",
       "      <td>ONION CREEK</td>\n",
       "    </tr>\n",
       "    <tr>\n",
       "      <th>1</th>\n",
       "      <td>2021-01-01</td>\n",
       "      <td>2021-01-01 12:00:00 UTC</td>\n",
       "      <td>SWEEPING</td>\n",
       "      <td>NaN</td>\n",
       "      <td>ONION CREEK</td>\n",
       "    </tr>\n",
       "    <tr>\n",
       "      <th>2</th>\n",
       "      <td>2021-01-01</td>\n",
       "      <td>2021-01-01 12:00:00 UTC</td>\n",
       "      <td>SWEEPING</td>\n",
       "      <td>NaN</td>\n",
       "      <td>ONION CREEK</td>\n",
       "    </tr>\n",
       "    <tr>\n",
       "      <th>3</th>\n",
       "      <td>2021-01-01</td>\n",
       "      <td>2021-01-01 12:00:00 UTC</td>\n",
       "      <td>SWEEPING</td>\n",
       "      <td>NaN</td>\n",
       "      <td>ONION CREEK</td>\n",
       "    </tr>\n",
       "    <tr>\n",
       "      <th>4</th>\n",
       "      <td>2021-01-02</td>\n",
       "      <td>2021-01-02 09:24:00 UTC</td>\n",
       "      <td>TIRES</td>\n",
       "      <td>1640.0</td>\n",
       "      <td>MRF</td>\n",
       "    </tr>\n",
       "  </tbody>\n",
       "</table>\n",
       "</div>"
      ],
      "text/plain": [
       "  report_date                load_time load_type  load_weight dropoff_site\n",
       "0  2021-01-01  2021-01-01 12:00:00 UTC  SWEEPING          NaN  ONION CREEK\n",
       "1  2021-01-01  2021-01-01 12:00:00 UTC  SWEEPING          NaN  ONION CREEK\n",
       "2  2021-01-01  2021-01-01 12:00:00 UTC  SWEEPING          NaN  ONION CREEK\n",
       "3  2021-01-01  2021-01-01 12:00:00 UTC  SWEEPING          NaN  ONION CREEK\n",
       "4  2021-01-02  2021-01-02 09:24:00 UTC     TIRES       1640.0          MRF"
      ]
     },
     "execution_count": 140,
     "metadata": {},
     "output_type": "execute_result"
    }
   ],
   "source": [
    "df=pd.read_csv(\"D:\\GC2\\h8dsft_P0GC2_Fachmi_Maris.csv.csv\")\n",
    "df.head()"
   ]
  },
  {
   "cell_type": "code",
   "execution_count": 141,
   "metadata": {},
   "outputs": [
    {
     "data": {
      "text/html": [
       "<div>\n",
       "<style scoped>\n",
       "    .dataframe tbody tr th:only-of-type {\n",
       "        vertical-align: middle;\n",
       "    }\n",
       "\n",
       "    .dataframe tbody tr th {\n",
       "        vertical-align: top;\n",
       "    }\n",
       "\n",
       "    .dataframe thead th {\n",
       "        text-align: right;\n",
       "    }\n",
       "</style>\n",
       "<table border=\"1\" class=\"dataframe\">\n",
       "  <thead>\n",
       "    <tr style=\"text-align: right;\">\n",
       "      <th></th>\n",
       "      <th>report_date</th>\n",
       "      <th>load_time</th>\n",
       "      <th>load_type</th>\n",
       "      <th>load_weight</th>\n",
       "      <th>dropoff_site</th>\n",
       "    </tr>\n",
       "  </thead>\n",
       "  <tbody>\n",
       "    <tr>\n",
       "      <th>26152</th>\n",
       "      <td>2021-07-09</td>\n",
       "      <td>2021-07-09 09:48:00 UTC</td>\n",
       "      <td>BRUSH</td>\n",
       "      <td>8240.0</td>\n",
       "      <td>HORNSBY BEND</td>\n",
       "    </tr>\n",
       "    <tr>\n",
       "      <th>26153</th>\n",
       "      <td>2021-07-09</td>\n",
       "      <td>2021-07-09 12:02:00 UTC</td>\n",
       "      <td>BRUSH</td>\n",
       "      <td>4160.0</td>\n",
       "      <td>HORNSBY BEND</td>\n",
       "    </tr>\n",
       "    <tr>\n",
       "      <th>26154</th>\n",
       "      <td>2021-07-09</td>\n",
       "      <td>2021-07-09 11:55:00 UTC</td>\n",
       "      <td>BRUSH</td>\n",
       "      <td>4340.0</td>\n",
       "      <td>HORNSBY BEND</td>\n",
       "    </tr>\n",
       "    <tr>\n",
       "      <th>26155</th>\n",
       "      <td>2021-07-09</td>\n",
       "      <td>2021-07-09 12:00:00 UTC</td>\n",
       "      <td>LITTER</td>\n",
       "      <td>1900.0</td>\n",
       "      <td>TDS LANDFILL</td>\n",
       "    </tr>\n",
       "    <tr>\n",
       "      <th>26156</th>\n",
       "      <td>2021-07-09</td>\n",
       "      <td>2021-07-09 12:00:00 UTC</td>\n",
       "      <td>LITTER</td>\n",
       "      <td>3040.0</td>\n",
       "      <td>TDS LANDFILL</td>\n",
       "    </tr>\n",
       "  </tbody>\n",
       "</table>\n",
       "</div>"
      ],
      "text/plain": [
       "      report_date                load_time load_type  load_weight  \\\n",
       "26152  2021-07-09  2021-07-09 09:48:00 UTC     BRUSH       8240.0   \n",
       "26153  2021-07-09  2021-07-09 12:02:00 UTC     BRUSH       4160.0   \n",
       "26154  2021-07-09  2021-07-09 11:55:00 UTC     BRUSH       4340.0   \n",
       "26155  2021-07-09  2021-07-09 12:00:00 UTC    LITTER       1900.0   \n",
       "26156  2021-07-09  2021-07-09 12:00:00 UTC    LITTER       3040.0   \n",
       "\n",
       "       dropoff_site  \n",
       "26152  HORNSBY BEND  \n",
       "26153  HORNSBY BEND  \n",
       "26154  HORNSBY BEND  \n",
       "26155  TDS LANDFILL  \n",
       "26156  TDS LANDFILL  "
      ]
     },
     "execution_count": 141,
     "metadata": {},
     "output_type": "execute_result"
    }
   ],
   "source": [
    "df.tail()"
   ]
  },
  {
   "cell_type": "code",
   "execution_count": 142,
   "metadata": {},
   "outputs": [
    {
     "name": "stdout",
     "output_type": "stream",
     "text": [
      "<class 'pandas.core.frame.DataFrame'>\n",
      "RangeIndex: 26157 entries, 0 to 26156\n",
      "Data columns (total 5 columns):\n",
      " #   Column        Non-Null Count  Dtype  \n",
      "---  ------        --------------  -----  \n",
      " 0   report_date   26157 non-null  object \n",
      " 1   load_time     26157 non-null  object \n",
      " 2   load_type     26157 non-null  object \n",
      " 3   load_weight   25109 non-null  float64\n",
      " 4   dropoff_site  26157 non-null  object \n",
      "dtypes: float64(1), object(4)\n",
      "memory usage: 1021.9+ KB\n"
     ]
    }
   ],
   "source": [
    "df.info()"
   ]
  },
  {
   "cell_type": "code",
   "execution_count": 143,
   "metadata": {},
   "outputs": [
    {
     "data": {
      "text/plain": [
       "report_date        0\n",
       "load_time          0\n",
       "load_type          0\n",
       "load_weight     1048\n",
       "dropoff_site       0\n",
       "dtype: int64"
      ]
     },
     "execution_count": 143,
     "metadata": {},
     "output_type": "execute_result"
    }
   ],
   "source": [
    "df.isnull().sum()"
   ]
  },
  {
   "cell_type": "markdown",
   "metadata": {},
   "source": [
    "# Problem 1 (Stats)"
   ]
  },
  {
   "cell_type": "markdown",
   "metadata": {},
   "source": [
    "## 1. Melakukan pembersihan data dan mengatasi Missing Values"
   ]
  },
  {
   "cell_type": "code",
   "execution_count": 144,
   "metadata": {},
   "outputs": [],
   "source": [
    "#Mengatasi Missing Values\n",
    "df=df.dropna()"
   ]
  },
  {
   "cell_type": "code",
   "execution_count": 145,
   "metadata": {},
   "outputs": [
    {
     "data": {
      "text/plain": [
       "report_date     0\n",
       "load_time       0\n",
       "load_type       0\n",
       "load_weight     0\n",
       "dropoff_site    0\n",
       "dtype: int64"
      ]
     },
     "execution_count": 145,
     "metadata": {},
     "output_type": "execute_result"
    }
   ],
   "source": [
    "df.isnull().sum()"
   ]
  },
  {
   "cell_type": "code",
   "execution_count": 146,
   "metadata": {},
   "outputs": [],
   "source": [
    "df[\"report_date\"] = pd.to_datetime(df[\"report_date\"], format='%Y-%m-%d')"
   ]
  },
  {
   "cell_type": "markdown",
   "metadata": {},
   "source": [
    "## 2. Melakukan eksplorasi data sederhana"
   ]
  },
  {
   "cell_type": "code",
   "execution_count": 147,
   "metadata": {},
   "outputs": [
    {
     "data": {
      "text/html": [
       "<div>\n",
       "<style scoped>\n",
       "    .dataframe tbody tr th:only-of-type {\n",
       "        vertical-align: middle;\n",
       "    }\n",
       "\n",
       "    .dataframe tbody tr th {\n",
       "        vertical-align: top;\n",
       "    }\n",
       "\n",
       "    .dataframe thead th {\n",
       "        text-align: right;\n",
       "    }\n",
       "</style>\n",
       "<table border=\"1\" class=\"dataframe\">\n",
       "  <thead>\n",
       "    <tr style=\"text-align: right;\">\n",
       "      <th></th>\n",
       "      <th>report_date</th>\n",
       "      <th>load_time</th>\n",
       "      <th>load_type</th>\n",
       "      <th>load_weight</th>\n",
       "      <th>dropoff_site</th>\n",
       "    </tr>\n",
       "  </thead>\n",
       "  <tbody>\n",
       "    <tr>\n",
       "      <th>4</th>\n",
       "      <td>2021-01-02</td>\n",
       "      <td>2021-01-02 09:24:00 UTC</td>\n",
       "      <td>TIRES</td>\n",
       "      <td>1640.0</td>\n",
       "      <td>MRF</td>\n",
       "    </tr>\n",
       "    <tr>\n",
       "      <th>108</th>\n",
       "      <td>2021-01-02</td>\n",
       "      <td>2021-01-02 11:46:00 UTC</td>\n",
       "      <td>ORGANICS</td>\n",
       "      <td>13560.0</td>\n",
       "      <td>ORGANICS BY GOSH</td>\n",
       "    </tr>\n",
       "    <tr>\n",
       "      <th>109</th>\n",
       "      <td>2021-01-02</td>\n",
       "      <td>2021-01-02 02:51:00 UTC</td>\n",
       "      <td>ORGANICS</td>\n",
       "      <td>9360.0</td>\n",
       "      <td>ORGANICS BY GOSH</td>\n",
       "    </tr>\n",
       "    <tr>\n",
       "      <th>110</th>\n",
       "      <td>2021-01-02</td>\n",
       "      <td>2021-01-04 07:57:00 UTC</td>\n",
       "      <td>ORGANICS</td>\n",
       "      <td>2700.0</td>\n",
       "      <td>ORGANICS BY GOSH</td>\n",
       "    </tr>\n",
       "    <tr>\n",
       "      <th>111</th>\n",
       "      <td>2021-01-02</td>\n",
       "      <td>2021-01-02 12:22:00 UTC</td>\n",
       "      <td>RECYCLING - SINGLE STREAM</td>\n",
       "      <td>8760.0</td>\n",
       "      <td>BALCONES RECYCLING</td>\n",
       "    </tr>\n",
       "    <tr>\n",
       "      <th>...</th>\n",
       "      <td>...</td>\n",
       "      <td>...</td>\n",
       "      <td>...</td>\n",
       "      <td>...</td>\n",
       "      <td>...</td>\n",
       "    </tr>\n",
       "    <tr>\n",
       "      <th>26137</th>\n",
       "      <td>2021-07-09</td>\n",
       "      <td>2021-07-09 06:32:00 UTC</td>\n",
       "      <td>BRUSH</td>\n",
       "      <td>5500.0</td>\n",
       "      <td>HORNSBY BEND</td>\n",
       "    </tr>\n",
       "    <tr>\n",
       "      <th>26136</th>\n",
       "      <td>2021-07-09</td>\n",
       "      <td>2021-07-09 10:55:00 UTC</td>\n",
       "      <td>BRUSH</td>\n",
       "      <td>3680.0</td>\n",
       "      <td>HORNSBY BEND</td>\n",
       "    </tr>\n",
       "    <tr>\n",
       "      <th>26155</th>\n",
       "      <td>2021-07-09</td>\n",
       "      <td>2021-07-09 12:00:00 UTC</td>\n",
       "      <td>LITTER</td>\n",
       "      <td>1900.0</td>\n",
       "      <td>TDS LANDFILL</td>\n",
       "    </tr>\n",
       "    <tr>\n",
       "      <th>26145</th>\n",
       "      <td>2021-07-09</td>\n",
       "      <td>2021-07-09 10:07:00 UTC</td>\n",
       "      <td>BRUSH</td>\n",
       "      <td>7360.0</td>\n",
       "      <td>HORNSBY BEND</td>\n",
       "    </tr>\n",
       "    <tr>\n",
       "      <th>26156</th>\n",
       "      <td>2021-07-09</td>\n",
       "      <td>2021-07-09 12:00:00 UTC</td>\n",
       "      <td>LITTER</td>\n",
       "      <td>3040.0</td>\n",
       "      <td>TDS LANDFILL</td>\n",
       "    </tr>\n",
       "  </tbody>\n",
       "</table>\n",
       "<p>25109 rows × 5 columns</p>\n",
       "</div>"
      ],
      "text/plain": [
       "      report_date                load_time                  load_type  \\\n",
       "4      2021-01-02  2021-01-02 09:24:00 UTC                      TIRES   \n",
       "108    2021-01-02  2021-01-02 11:46:00 UTC                   ORGANICS   \n",
       "109    2021-01-02  2021-01-02 02:51:00 UTC                   ORGANICS   \n",
       "110    2021-01-02  2021-01-04 07:57:00 UTC                   ORGANICS   \n",
       "111    2021-01-02  2021-01-02 12:22:00 UTC  RECYCLING - SINGLE STREAM   \n",
       "...           ...                      ...                        ...   \n",
       "26137  2021-07-09  2021-07-09 06:32:00 UTC                      BRUSH   \n",
       "26136  2021-07-09  2021-07-09 10:55:00 UTC                      BRUSH   \n",
       "26155  2021-07-09  2021-07-09 12:00:00 UTC                     LITTER   \n",
       "26145  2021-07-09  2021-07-09 10:07:00 UTC                      BRUSH   \n",
       "26156  2021-07-09  2021-07-09 12:00:00 UTC                     LITTER   \n",
       "\n",
       "       load_weight        dropoff_site  \n",
       "4           1640.0                 MRF  \n",
       "108        13560.0    ORGANICS BY GOSH  \n",
       "109         9360.0    ORGANICS BY GOSH  \n",
       "110         2700.0    ORGANICS BY GOSH  \n",
       "111         8760.0  BALCONES RECYCLING  \n",
       "...            ...                 ...  \n",
       "26137       5500.0        HORNSBY BEND  \n",
       "26136       3680.0        HORNSBY BEND  \n",
       "26155       1900.0        TDS LANDFILL  \n",
       "26145       7360.0        HORNSBY BEND  \n",
       "26156       3040.0        TDS LANDFILL  \n",
       "\n",
       "[25109 rows x 5 columns]"
      ]
     },
     "execution_count": 147,
     "metadata": {},
     "output_type": "execute_result"
    }
   ],
   "source": [
    "df=df.sort_values('report_date')\n",
    "df"
   ]
  },
  {
   "cell_type": "markdown",
   "metadata": {},
   "source": [
    "Waktu penelitian dimulai pada tanggal 2021-01-02 dan berakhir pada tanggal 2021-07-09"
   ]
  },
  {
   "cell_type": "code",
   "execution_count": 148,
   "metadata": {},
   "outputs": [
    {
     "data": {
      "text/plain": [
       "min   2021-01-02\n",
       "max   2021-07-09\n",
       "Name: report_date, dtype: datetime64[ns]"
      ]
     },
     "execution_count": 148,
     "metadata": {},
     "output_type": "execute_result"
    }
   ],
   "source": [
    "df[\"report_date\"].agg((\"min\", \"max\"))"
   ]
  },
  {
   "cell_type": "markdown",
   "metadata": {},
   "source": [
    "Berikut adalah jenis-jenis sampah yang ada di kota Austin"
   ]
  },
  {
   "cell_type": "code",
   "execution_count": 149,
   "metadata": {},
   "outputs": [
    {
     "data": {
      "text/plain": [
       "GARBAGE COLLECTIONS          8241\n",
       "RECYCLING - SINGLE STREAM    6760\n",
       "ORGANICS                     5749\n",
       "BULK                         1594\n",
       "BRUSH                        1514\n",
       "SWEEPING                      360\n",
       "MIXED LITTER                  329\n",
       "TIRES                         175\n",
       "DEAD ANIMAL                   150\n",
       "YARD TRIMMING                 137\n",
       "RECYCLED METAL                 57\n",
       "LITTER                         41\n",
       "CONTAMINATED RECYCLING          1\n",
       "CONTAMINATED ORGANICS           1\n",
       "Name: load_type, dtype: int64"
      ]
     },
     "execution_count": 149,
     "metadata": {},
     "output_type": "execute_result"
    }
   ],
   "source": [
    "df['load_type'].value_counts()"
   ]
  },
  {
   "cell_type": "code",
   "execution_count": 150,
   "metadata": {},
   "outputs": [
    {
     "data": {
      "image/png": "[encoded data removed]",
      "text/plain": [
       "<Figure size 864x432 with 1 Axes>"
      ]
     },
     "metadata": {
      "needs_background": "light"
     },
     "output_type": "display_data"
    }
   ],
   "source": [
    "plt.figure(figsize=(12,6))\n",
    "load_type_counts = df['load_type'].value_counts()\n",
    "ax1 = load_type_counts.plot(kind='bar');#, logy=True);\n",
    "labels = []\n",
    "for i, label in enumerate(load_type_counts.index) :\n",
    "    labels.append('{} - ({})'.format(label, load_type_counts[label]))\n",
    "ax1.set_xticklabels(labels);"
   ]
  },
  {
   "cell_type": "markdown",
   "metadata": {},
   "source": [
    "Daftar situs pengantaran sampah yang berada di kota Austin beserta jumlahnya"
   ]
  },
  {
   "cell_type": "code",
   "execution_count": 151,
   "metadata": {},
   "outputs": [
    {
     "data": {
      "text/plain": [
       "TDS LANDFILL             10691\n",
       "ORGANICS BY GOSH          5741\n",
       "BALCONES RECYCLING        3837\n",
       "TDS - MRF                 2948\n",
       "HORNSBY BEND              1652\n",
       "MRF                        168\n",
       "AUSTIN IRON AND METAL       50\n",
       "ON ROUTE HIGH DUMP           7\n",
       "GREAT NORTHERN               6\n",
       "PARK BEND                    4\n",
       "AUSTIN WOOD RECYCLING        2\n",
       "BALCONES WOODS               1\n",
       "STEINER LANDFILL             1\n",
       "WESTFIELD                    1\n",
       "Name: dropoff_site, dtype: int64"
      ]
     },
     "execution_count": 151,
     "metadata": {},
     "output_type": "execute_result"
    }
   ],
   "source": [
    "df['dropoff_site'].value_counts()"
   ]
  },
  {
   "cell_type": "code",
   "execution_count": 152,
   "metadata": {},
   "outputs": [
    {
     "data": {
      "image/png": "[encoded data removed]",
      "text/plain": [
       "<Figure size 864x432 with 1 Axes>"
      ]
     },
     "metadata": {
      "needs_background": "light"
     },
     "output_type": "display_data"
    }
   ],
   "source": [
    "plt.figure(figsize=(12,6))\n",
    "dropoff_site_counts = df['dropoff_site'].value_counts()\n",
    "ax1 = dropoff_site_counts.plot(kind='bar');#, logy=True);\n",
    "labels = []\n",
    "for i, label in enumerate(dropoff_site_counts.index) :\n",
    "    labels.append('{} - ({})'.format(label, dropoff_site_counts[label]))\n",
    "ax1.set_xticklabels(labels);"
   ]
  },
  {
   "cell_type": "markdown",
   "metadata": {},
   "source": [
    "Rata - rata beban berat sampah di kota Austin mulai tanggal 2 Januari 20211 sampai 9 Juli 2021"
   ]
  },
  {
   "cell_type": "code",
   "execution_count": 153,
   "metadata": {},
   "outputs": [
    {
     "data": {
      "text/plain": [
       "12227.136307276274"
      ]
     },
     "execution_count": 153,
     "metadata": {},
     "output_type": "execute_result"
    }
   ],
   "source": [
    "df['load_weight'].mean()"
   ]
  },
  {
   "cell_type": "markdown",
   "metadata": {},
   "source": [
    "## 3. Berdasarkan central tendency (mean, median, dan modus) untuk masing-masing site"
   ]
  },
  {
   "cell_type": "markdown",
   "metadata": {},
   "source": [
    "## Mean berdasarkan dropoff_site dan load_weight"
   ]
  },
  {
   "cell_type": "code",
   "execution_count": 154,
   "metadata": {},
   "outputs": [
    {
     "data": {
      "text/plain": [
       "dropoff_site\n",
       "AUSTIN IRON AND METAL      451.200000\n",
       "AUSTIN WOOD RECYCLING     4050.000000\n",
       "BALCONES RECYCLING        9464.652072\n",
       "BALCONES WOODS            8460.000000\n",
       "GREAT NORTHERN           19153.333333\n",
       "HORNSBY BEND              6628.644068\n",
       "MRF                       1799.982143\n",
       "ON ROUTE HIGH DUMP       12525.714286\n",
       "ORGANICS BY GOSH         11818.482146\n",
       "PARK BEND                13385.000000\n",
       "STEINER LANDFILL           780.000000\n",
       "TDS - MRF                 9872.550882\n",
       "TDS LANDFILL             15169.407215\n",
       "WESTFIELD                16020.000000\n",
       "Name: load_weight, dtype: float64"
      ]
     },
     "execution_count": 154,
     "metadata": {},
     "output_type": "execute_result"
    }
   ],
   "source": [
    "df.groupby('dropoff_site')['load_weight'].mean()"
   ]
  },
  {
   "cell_type": "markdown",
   "metadata": {},
   "source": [
    "Berdasarkan data di atas\n",
    "Mean tertinggi terletak di site GREAT NORTHERN sebesar 19153.333333\n",
    "\n",
    "Mean terendah terletak di site AUSTIN IRON AND METAL sebesar 451.200000"
   ]
  },
  {
   "cell_type": "markdown",
   "metadata": {},
   "source": [
    "## Median berdasarkan dropoff_site dan load_weight"
   ]
  },
  {
   "cell_type": "code",
   "execution_count": 155,
   "metadata": {},
   "outputs": [
    {
     "data": {
      "text/plain": [
       "dropoff_site\n",
       "AUSTIN IRON AND METAL      400.0\n",
       "AUSTIN WOOD RECYCLING     4050.0\n",
       "BALCONES RECYCLING        9840.0\n",
       "BALCONES WOODS            8460.0\n",
       "GREAT NORTHERN           21110.0\n",
       "HORNSBY BEND              6390.0\n",
       "MRF                       1360.0\n",
       "ON ROUTE HIGH DUMP       14940.0\n",
       "ORGANICS BY GOSH         11920.0\n",
       "PARK BEND                12330.0\n",
       "STEINER LANDFILL           780.0\n",
       "TDS - MRF                10330.0\n",
       "TDS LANDFILL             14920.0\n",
       "WESTFIELD                16020.0\n",
       "Name: load_weight, dtype: float64"
      ]
     },
     "execution_count": 155,
     "metadata": {},
     "output_type": "execute_result"
    }
   ],
   "source": [
    "df.groupby('dropoff_site')['load_weight'].median()"
   ]
  },
  {
   "cell_type": "markdown",
   "metadata": {},
   "source": [
    "Median tertinggi terletak di site GREAT NORTHERN sebesar 21110.0\n",
    "\n",
    "Median terendah terletak di site AUSTIN IRON AND METAL sebesar 400.0"
   ]
  },
  {
   "cell_type": "markdown",
   "metadata": {},
   "source": [
    "## Modus berdasarkan data yang ada yaitu site TDS LANDFILL"
   ]
  },
  {
   "cell_type": "code",
   "execution_count": 156,
   "metadata": {},
   "outputs": [
    {
     "data": {
      "text/plain": [
       "0    TDS LANDFILL\n",
       "Name: dropoff_site, dtype: object"
      ]
     },
     "execution_count": 156,
     "metadata": {},
     "output_type": "execute_result"
    }
   ],
   "source": [
    "df['dropoff_site'].mode()"
   ]
  },
  {
   "cell_type": "code",
   "execution_count": 157,
   "metadata": {},
   "outputs": [
    {
     "data": {
      "text/plain": [
       "array(['MRF', 'ORGANICS BY GOSH', 'BALCONES RECYCLING', 'TDS LANDFILL',\n",
       "       'TDS - MRF', 'HORNSBY BEND', 'AUSTIN IRON AND METAL',\n",
       "       'GREAT NORTHERN', 'AUSTIN WOOD RECYCLING', 'PARK BEND',\n",
       "       'ON ROUTE HIGH DUMP', 'BALCONES WOODS', 'STEINER LANDFILL',\n",
       "       'WESTFIELD'], dtype=object)"
      ]
     },
     "execution_count": 157,
     "metadata": {},
     "output_type": "execute_result"
    }
   ],
   "source": [
    "df['dropoff_site'].unique()"
   ]
  },
  {
   "cell_type": "code",
   "execution_count": 158,
   "metadata": {},
   "outputs": [
    {
     "name": "stdout",
     "output_type": "stream",
     "text": [
      "\n",
      "AUSTIN IRON AND METAL:\n",
      "\tRECYCLED METAL\n",
      "\n",
      "AUSTIN WOOD RECYCLING:\n",
      "\tRECYCLING - SINGLE STREAM\n",
      "\n",
      "BALCONES RECYCLING:\n",
      "\tRECYCLING - SINGLE STREAM\n",
      "\n",
      "BALCONES WOODS:\n",
      "\tRECYCLING - SINGLE STREAM\n",
      "\n",
      "GREAT NORTHERN:\n",
      "\tGARBAGE COLLECTIONS\n",
      "\n",
      "HORNSBY BEND:\n",
      "\tYARD TRIMMING\n",
      "\tBRUSH\n",
      "\tORGANICS\n",
      "\tGARBAGE COLLECTIONS\n",
      "\n",
      "MRF:\n",
      "\tTIRES\n",
      "\tBULK\n",
      "\tRECYCLED METAL\n",
      "\n",
      "ON ROUTE HIGH DUMP:\n",
      "\tORGANICS\n",
      "\n",
      "ORGANICS BY GOSH:\n",
      "\tORGANICS\n",
      "\tDEAD ANIMAL\n",
      "\tRECYCLED METAL\n",
      "\tSWEEPING\n",
      "\tGARBAGE COLLECTIONS\n",
      "\n",
      "PARK BEND:\n",
      "\tORGANICS\n",
      "\n",
      "STEINER LANDFILL:\n",
      "\tGARBAGE COLLECTIONS\n",
      "\n",
      "TDS - MRF:\n",
      "\tRECYCLING - SINGLE STREAM\n",
      "\tGARBAGE COLLECTIONS\n",
      "\tLITTER\n",
      "\tBULK\n",
      "\n",
      "TDS LANDFILL:\n",
      "\tGARBAGE COLLECTIONS\n",
      "\tMIXED LITTER\n",
      "\tBULK\n",
      "\tDEAD ANIMAL\n",
      "\tSWEEPING\n",
      "\tLITTER\n",
      "\tTIRES\n",
      "\tORGANICS\n",
      "\tRECYCLING - SINGLE STREAM\n",
      "\tCONTAMINATED RECYCLING\n",
      "\tCONTAMINATED ORGANICS\n",
      "\tBRUSH\n",
      "\tRECYCLED METAL\n",
      "\n",
      "WESTFIELD:\n",
      "\tGARBAGE COLLECTIONS\n"
     ]
    }
   ],
   "source": [
    "load_by_dropoff_site = df.groupby('dropoff_site')['load_type'].unique()\n",
    "for i in load_by_dropoff_site.index:\n",
    "    print('\\n{}:'.format(i))\n",
    "    for j in load_by_dropoff_site[i]:\n",
    "        print('\\t{}'.format(j))\n"
   ]
  },
  {
   "cell_type": "code",
   "execution_count": 159,
   "metadata": {},
   "outputs": [
    {
     "name": "stdout",
     "output_type": "stream",
     "text": [
      "Missing Total : 0\n",
      "Missing Percentage:0.00%\n"
     ]
    }
   ],
   "source": [
    "missing =df[df['load_weight'].isnull()]\n",
    "missing_perc = len(missing) / len(df)*100\n",
    "print('Missing Total : {}\\nMissing Percentage:{:.2f}%'.format(len(missing), missing_perc))"
   ]
  },
  {
   "cell_type": "markdown",
   "metadata": {},
   "source": [
    "Melihat dataset sebagai data series berdasarkan load time"
   ]
  },
  {
   "cell_type": "code",
   "execution_count": 160,
   "metadata": {},
   "outputs": [
    {
     "data": {
      "text/html": [
       "<div>\n",
       "<style scoped>\n",
       "    .dataframe tbody tr th:only-of-type {\n",
       "        vertical-align: middle;\n",
       "    }\n",
       "\n",
       "    .dataframe tbody tr th {\n",
       "        vertical-align: top;\n",
       "    }\n",
       "\n",
       "    .dataframe thead th {\n",
       "        text-align: right;\n",
       "    }\n",
       "</style>\n",
       "<table border=\"1\" class=\"dataframe\">\n",
       "  <thead>\n",
       "    <tr style=\"text-align: right;\">\n",
       "      <th></th>\n",
       "      <th>report_date</th>\n",
       "      <th>load_type</th>\n",
       "      <th>load_weight</th>\n",
       "      <th>dropoff_site</th>\n",
       "    </tr>\n",
       "    <tr>\n",
       "      <th>load_time</th>\n",
       "      <th></th>\n",
       "      <th></th>\n",
       "      <th></th>\n",
       "      <th></th>\n",
       "    </tr>\n",
       "  </thead>\n",
       "  <tbody>\n",
       "    <tr>\n",
       "      <th>2020-06-27 01:00:00 UTC</th>\n",
       "      <td>2021-05-27</td>\n",
       "      <td>RECYCLING - SINGLE STREAM</td>\n",
       "      <td>5780.0</td>\n",
       "      <td>BALCONES RECYCLING</td>\n",
       "    </tr>\n",
       "    <tr>\n",
       "      <th>2020-06-27 01:33:00 UTC</th>\n",
       "      <td>2021-05-27</td>\n",
       "      <td>RECYCLING - SINGLE STREAM</td>\n",
       "      <td>4620.0</td>\n",
       "      <td>BALCONES RECYCLING</td>\n",
       "    </tr>\n",
       "    <tr>\n",
       "      <th>2020-06-27 01:45:00 UTC</th>\n",
       "      <td>2021-05-27</td>\n",
       "      <td>RECYCLING - SINGLE STREAM</td>\n",
       "      <td>18180.0</td>\n",
       "      <td>BALCONES RECYCLING</td>\n",
       "    </tr>\n",
       "    <tr>\n",
       "      <th>2020-06-27 09:30:00 UTC</th>\n",
       "      <td>2021-05-27</td>\n",
       "      <td>RECYCLING - SINGLE STREAM</td>\n",
       "      <td>4380.0</td>\n",
       "      <td>BALCONES RECYCLING</td>\n",
       "    </tr>\n",
       "    <tr>\n",
       "      <th>2020-06-27 12:35:00 UTC</th>\n",
       "      <td>2021-05-27</td>\n",
       "      <td>RECYCLING - SINGLE STREAM</td>\n",
       "      <td>15680.0</td>\n",
       "      <td>BALCONES RECYCLING</td>\n",
       "    </tr>\n",
       "    <tr>\n",
       "      <th>...</th>\n",
       "      <td>...</td>\n",
       "      <td>...</td>\n",
       "      <td>...</td>\n",
       "      <td>...</td>\n",
       "    </tr>\n",
       "    <tr>\n",
       "      <th>2021-07-09 12:00:00 UTC</th>\n",
       "      <td>2021-07-09</td>\n",
       "      <td>LITTER</td>\n",
       "      <td>3040.0</td>\n",
       "      <td>TDS LANDFILL</td>\n",
       "    </tr>\n",
       "    <tr>\n",
       "      <th>2021-07-09 12:02:00 UTC</th>\n",
       "      <td>2021-07-09</td>\n",
       "      <td>BRUSH</td>\n",
       "      <td>4160.0</td>\n",
       "      <td>HORNSBY BEND</td>\n",
       "    </tr>\n",
       "    <tr>\n",
       "      <th>2021-07-09 12:39:00 UTC</th>\n",
       "      <td>2021-07-09</td>\n",
       "      <td>BRUSH</td>\n",
       "      <td>7140.0</td>\n",
       "      <td>HORNSBY BEND</td>\n",
       "    </tr>\n",
       "    <tr>\n",
       "      <th>2021-07-11 07:07:42 UTC</th>\n",
       "      <td>2021-06-30</td>\n",
       "      <td>GARBAGE COLLECTIONS</td>\n",
       "      <td>17200.0</td>\n",
       "      <td>TDS LANDFILL</td>\n",
       "    </tr>\n",
       "    <tr>\n",
       "      <th>2021-07-11 07:07:45 UTC</th>\n",
       "      <td>2021-06-28</td>\n",
       "      <td>MIXED LITTER</td>\n",
       "      <td>3140.0</td>\n",
       "      <td>TDS LANDFILL</td>\n",
       "    </tr>\n",
       "  </tbody>\n",
       "</table>\n",
       "<p>25109 rows × 4 columns</p>\n",
       "</div>"
      ],
      "text/plain": [
       "                        report_date                  load_type  load_weight  \\\n",
       "load_time                                                                     \n",
       "2020-06-27 01:00:00 UTC  2021-05-27  RECYCLING - SINGLE STREAM       5780.0   \n",
       "2020-06-27 01:33:00 UTC  2021-05-27  RECYCLING - SINGLE STREAM       4620.0   \n",
       "2020-06-27 01:45:00 UTC  2021-05-27  RECYCLING - SINGLE STREAM      18180.0   \n",
       "2020-06-27 09:30:00 UTC  2021-05-27  RECYCLING - SINGLE STREAM       4380.0   \n",
       "2020-06-27 12:35:00 UTC  2021-05-27  RECYCLING - SINGLE STREAM      15680.0   \n",
       "...                             ...                        ...          ...   \n",
       "2021-07-09 12:00:00 UTC  2021-07-09                     LITTER       3040.0   \n",
       "2021-07-09 12:02:00 UTC  2021-07-09                      BRUSH       4160.0   \n",
       "2021-07-09 12:39:00 UTC  2021-07-09                      BRUSH       7140.0   \n",
       "2021-07-11 07:07:42 UTC  2021-06-30        GARBAGE COLLECTIONS      17200.0   \n",
       "2021-07-11 07:07:45 UTC  2021-06-28               MIXED LITTER       3140.0   \n",
       "\n",
       "                               dropoff_site  \n",
       "load_time                                    \n",
       "2020-06-27 01:00:00 UTC  BALCONES RECYCLING  \n",
       "2020-06-27 01:33:00 UTC  BALCONES RECYCLING  \n",
       "2020-06-27 01:45:00 UTC  BALCONES RECYCLING  \n",
       "2020-06-27 09:30:00 UTC  BALCONES RECYCLING  \n",
       "2020-06-27 12:35:00 UTC  BALCONES RECYCLING  \n",
       "...                                     ...  \n",
       "2021-07-09 12:00:00 UTC        TDS LANDFILL  \n",
       "2021-07-09 12:02:00 UTC        HORNSBY BEND  \n",
       "2021-07-09 12:39:00 UTC        HORNSBY BEND  \n",
       "2021-07-11 07:07:42 UTC        TDS LANDFILL  \n",
       "2021-07-11 07:07:45 UTC        TDS LANDFILL  \n",
       "\n",
       "[25109 rows x 4 columns]"
      ]
     },
     "execution_count": 160,
     "metadata": {},
     "output_type": "execute_result"
    }
   ],
   "source": [
    "data_ts = df.sort_values('load_time')\n",
    "data_ts.index = data_ts['load_time']\n",
    "data_ts.drop('load_time', axis = 1 , inplace = True)\n",
    "data_ts\n"
   ]
  },
  {
   "cell_type": "code",
   "execution_count": 161,
   "metadata": {},
   "outputs": [
    {
     "data": {
      "image/png": "[encoded data removed]",
      "text/plain": [
       "<Figure size 432x288 with 1 Axes>"
      ]
     },
     "metadata": {
      "needs_background": "light"
     },
     "output_type": "display_data"
    }
   ],
   "source": [
    "load_weight = df['load_weight']\n",
    "load_weight.plot.hist(title='load_weight Distribution', color='lightblue', bins=25)\n",
    "plt.axvline(load_weight.mean(), color='red', linestyle='dashed', linewidth=3)\n",
    "plt.axvline(load_weight.median(), color='green', linestyle='dashed', linewidth=3)\n",
    "plt.show()"
   ]
  },
  {
   "cell_type": "code",
   "execution_count": 162,
   "metadata": {},
   "outputs": [
    {
     "data": {
      "image/png": "[encoded data removed]",
      "text/plain": [
       "<Figure size 720x576 with 1 Axes>"
      ]
     },
     "metadata": {
      "needs_background": "light"
     },
     "output_type": "display_data"
    }
   ],
   "source": [
    "df['load_weight'].plot(kind='box', title='load_weight Distribution', figsize=(10,8))\n",
    "plt.show()"
   ]
  },
  {
   "cell_type": "code",
   "execution_count": 163,
   "metadata": {},
   "outputs": [
    {
     "data": {
      "image/png": "[encoded data removed]",
      "text/plain": [
       "<Figure size 432x288 with 1 Axes>"
      ]
     },
     "metadata": {
      "needs_background": "light"
     },
     "output_type": "display_data"
    }
   ],
   "source": [
    "load_weight = df['load_weight']\n",
    "density = stats.gaussian_kde(load_weight)\n",
    "n, x, _ = plt.hist(load_weight, histtype='step', bins=50)  \n",
    "plt.plot(x, density(x)*2**7.5)\n",
    "plt.axvline(load_weight.mean(), color='magenta', linestyle='dashed', linewidth=2)\n",
    "plt.axvline(load_weight.median(), color='green', linestyle='dashed', linewidth=2)\n",
    "plt.show()"
   ]
  },
  {
   "cell_type": "markdown",
   "metadata": {},
   "source": [
    "## 4.Memilih site yang paling menarik perhatian kamu, dan berikan alasannya\n",
    "Saya tertarik pada site Hornsby Bend karena menurut literasi yang saya baca di sana terdapat Dilo Dirt. Dillo Dirt adalah kompos yang dibuat oleh Kota Austin, Texas sejak tahun 1989. Itu adalah program pertama dari jenisnya di negara bagian dan salah satu yang tertua di negara ini. Dillo Dirt dinamai armadillo sembilan-banded, yang merupakan mamalia asli Texas"
   ]
  },
  {
   "cell_type": "code",
   "execution_count": 164,
   "metadata": {},
   "outputs": [
    {
     "data": {
      "text/html": [
       "<div>\n",
       "<style scoped>\n",
       "    .dataframe tbody tr th:only-of-type {\n",
       "        vertical-align: middle;\n",
       "    }\n",
       "\n",
       "    .dataframe tbody tr th {\n",
       "        vertical-align: top;\n",
       "    }\n",
       "\n",
       "    .dataframe thead th {\n",
       "        text-align: right;\n",
       "    }\n",
       "</style>\n",
       "<table border=\"1\" class=\"dataframe\">\n",
       "  <thead>\n",
       "    <tr style=\"text-align: right;\">\n",
       "      <th></th>\n",
       "      <th>report_date</th>\n",
       "      <th>load_time</th>\n",
       "      <th>load_type</th>\n",
       "      <th>load_weight</th>\n",
       "      <th>dropoff_site</th>\n",
       "    </tr>\n",
       "  </thead>\n",
       "  <tbody>\n",
       "    <tr>\n",
       "      <th>11</th>\n",
       "      <td>2021-01-02</td>\n",
       "      <td>2021-01-02 05:44:00 UTC</td>\n",
       "      <td>YARD TRIMMING</td>\n",
       "      <td>17660.0</td>\n",
       "      <td>HORNSBY BEND</td>\n",
       "    </tr>\n",
       "    <tr>\n",
       "      <th>12</th>\n",
       "      <td>2021-01-02</td>\n",
       "      <td>2021-01-02 12:04:00 UTC</td>\n",
       "      <td>YARD TRIMMING</td>\n",
       "      <td>18220.0</td>\n",
       "      <td>HORNSBY BEND</td>\n",
       "    </tr>\n",
       "    <tr>\n",
       "      <th>13</th>\n",
       "      <td>2021-01-02</td>\n",
       "      <td>2021-01-02 05:45:00 UTC</td>\n",
       "      <td>YARD TRIMMING</td>\n",
       "      <td>7400.0</td>\n",
       "      <td>HORNSBY BEND</td>\n",
       "    </tr>\n",
       "    <tr>\n",
       "      <th>14</th>\n",
       "      <td>2021-01-02</td>\n",
       "      <td>2021-01-02 02:05:00 UTC</td>\n",
       "      <td>YARD TRIMMING</td>\n",
       "      <td>17880.0</td>\n",
       "      <td>HORNSBY BEND</td>\n",
       "    </tr>\n",
       "    <tr>\n",
       "      <th>15</th>\n",
       "      <td>2021-01-02</td>\n",
       "      <td>2021-01-02 01:02:00 UTC</td>\n",
       "      <td>YARD TRIMMING</td>\n",
       "      <td>17660.0</td>\n",
       "      <td>HORNSBY BEND</td>\n",
       "    </tr>\n",
       "    <tr>\n",
       "      <th>...</th>\n",
       "      <td>...</td>\n",
       "      <td>...</td>\n",
       "      <td>...</td>\n",
       "      <td>...</td>\n",
       "      <td>...</td>\n",
       "    </tr>\n",
       "    <tr>\n",
       "      <th>26140</th>\n",
       "      <td>2021-07-09</td>\n",
       "      <td>2021-07-09 02:57:00 UTC</td>\n",
       "      <td>BRUSH</td>\n",
       "      <td>5500.0</td>\n",
       "      <td>HORNSBY BEND</td>\n",
       "    </tr>\n",
       "    <tr>\n",
       "      <th>26138</th>\n",
       "      <td>2021-07-09</td>\n",
       "      <td>2021-07-09 05:40:00 UTC</td>\n",
       "      <td>BRUSH</td>\n",
       "      <td>5500.0</td>\n",
       "      <td>HORNSBY BEND</td>\n",
       "    </tr>\n",
       "    <tr>\n",
       "      <th>26137</th>\n",
       "      <td>2021-07-09</td>\n",
       "      <td>2021-07-09 06:32:00 UTC</td>\n",
       "      <td>BRUSH</td>\n",
       "      <td>5500.0</td>\n",
       "      <td>HORNSBY BEND</td>\n",
       "    </tr>\n",
       "    <tr>\n",
       "      <th>26136</th>\n",
       "      <td>2021-07-09</td>\n",
       "      <td>2021-07-09 10:55:00 UTC</td>\n",
       "      <td>BRUSH</td>\n",
       "      <td>3680.0</td>\n",
       "      <td>HORNSBY BEND</td>\n",
       "    </tr>\n",
       "    <tr>\n",
       "      <th>26145</th>\n",
       "      <td>2021-07-09</td>\n",
       "      <td>2021-07-09 10:07:00 UTC</td>\n",
       "      <td>BRUSH</td>\n",
       "      <td>7360.0</td>\n",
       "      <td>HORNSBY BEND</td>\n",
       "    </tr>\n",
       "  </tbody>\n",
       "</table>\n",
       "<p>1652 rows × 5 columns</p>\n",
       "</div>"
      ],
      "text/plain": [
       "      report_date                load_time      load_type  load_weight  \\\n",
       "11     2021-01-02  2021-01-02 05:44:00 UTC  YARD TRIMMING      17660.0   \n",
       "12     2021-01-02  2021-01-02 12:04:00 UTC  YARD TRIMMING      18220.0   \n",
       "13     2021-01-02  2021-01-02 05:45:00 UTC  YARD TRIMMING       7400.0   \n",
       "14     2021-01-02  2021-01-02 02:05:00 UTC  YARD TRIMMING      17880.0   \n",
       "15     2021-01-02  2021-01-02 01:02:00 UTC  YARD TRIMMING      17660.0   \n",
       "...           ...                      ...            ...          ...   \n",
       "26140  2021-07-09  2021-07-09 02:57:00 UTC          BRUSH       5500.0   \n",
       "26138  2021-07-09  2021-07-09 05:40:00 UTC          BRUSH       5500.0   \n",
       "26137  2021-07-09  2021-07-09 06:32:00 UTC          BRUSH       5500.0   \n",
       "26136  2021-07-09  2021-07-09 10:55:00 UTC          BRUSH       3680.0   \n",
       "26145  2021-07-09  2021-07-09 10:07:00 UTC          BRUSH       7360.0   \n",
       "\n",
       "       dropoff_site  \n",
       "11     HORNSBY BEND  \n",
       "12     HORNSBY BEND  \n",
       "13     HORNSBY BEND  \n",
       "14     HORNSBY BEND  \n",
       "15     HORNSBY BEND  \n",
       "...             ...  \n",
       "26140  HORNSBY BEND  \n",
       "26138  HORNSBY BEND  \n",
       "26137  HORNSBY BEND  \n",
       "26136  HORNSBY BEND  \n",
       "26145  HORNSBY BEND  \n",
       "\n",
       "[1652 rows x 5 columns]"
      ]
     },
     "execution_count": 164,
     "metadata": {},
     "output_type": "execute_result"
    }
   ],
   "source": [
    "df_Hornsby=df[df['dropoff_site'] == 'HORNSBY BEND']\n",
    "df_Hornsby"
   ]
  },
  {
   "cell_type": "markdown",
   "metadata": {},
   "source": [
    "## 5.Mengecek outlier pada data load_weight"
   ]
  },
  {
   "cell_type": "code",
   "execution_count": 165,
   "metadata": {},
   "outputs": [
    {
     "name": "stderr",
     "output_type": "stream",
     "text": [
      "C:\\Users\\fachm\\AppData\\Local\\Temp\\ipykernel_15156\\1993691029.py:1: FutureWarning: Dropping of nuisance columns in DataFrame reductions (with 'numeric_only=None') is deprecated; in a future version this will raise TypeError.  Select only valid columns before calling the reduction.\n",
      "  df_Hornsby.skew()\n"
     ]
    },
    {
     "data": {
      "text/plain": [
       "load_weight    0.743034\n",
       "dtype: float64"
      ]
     },
     "execution_count": 165,
     "metadata": {},
     "output_type": "execute_result"
    }
   ],
   "source": [
    "df_Hornsby.skew()"
   ]
  },
  {
   "cell_type": "markdown",
   "metadata": {},
   "source": [
    "Jika kemiringan antara-0,5 dan 0,5, data cukup simetris.\n",
    "\n",
    "Jika kemiringan antara-1 dan–0,5 atau antara 0,5 dan 1, data cukup miring.\n",
    "\n",
    "Jika kemiringan kurang dari 1 atau lebih besar, data sangat miring.\n",
    "\n",
    "skew yang diperoleh pada data load_weight di site Hornsby Bend sebesar 0.743034 sehingga, termasuk kategori data cukup miring.\n",
    "\n",
    "Langkah selanjutnya adalah menentukan metode untuk mencari outlier terdiri dari 2 metode dengan ketentuan tertentu,yaitu metode :\n",
    "\n",
    "1. Metode Z score digunakan apabila distribusi data normal yaitu, antara -0,5 dan 0,5.\n",
    "2. Metode Tukey digunakan apabila distribusi data tidak normal atau data cukup miring."
   ]
  },
  {
   "cell_type": "code",
   "execution_count": 166,
   "metadata": {},
   "outputs": [
    {
     "name": "stdout",
     "output_type": "stream",
     "text": [
      "kuartil 1=  4615.0\n",
      "kuartil 3=  8420.0\n",
      "IQR=  3805.0\n"
     ]
    }
   ],
   "source": [
    "Q1 = np.quantile(df_Hornsby['load_weight'], .25)\n",
    "Q3 = np.quantile(df_Hornsby['load_weight'], .75)\n",
    "\n",
    "IQR = Q3-Q1\n",
    "\n",
    "print('kuartil 1= ',Q1)\n",
    "print('kuartil 3= ',Q3)\n",
    "print('IQR= ',IQR)\n"
   ]
  },
  {
   "cell_type": "code",
   "execution_count": 167,
   "metadata": {},
   "outputs": [
    {
     "name": "stdout",
     "output_type": "stream",
     "text": [
      "Nilai minimum data = 60.0\n",
      "Nilai maksimum data = 20460.0\n"
     ]
    }
   ],
   "source": [
    "#Mencari nilai minimum global dan maksimum global\n",
    "nilai_min = np.min(df_Hornsby['load_weight'])\n",
    "nilai_max = np.max(df_Hornsby['load_weight'])\n",
    "print('Nilai minimum data =' ,nilai_min)\n",
    "print('Nilai maksimum data =' ,nilai_max)"
   ]
  },
  {
   "cell_type": "code",
   "execution_count": 168,
   "metadata": {},
   "outputs": [
    {
     "name": "stdout",
     "output_type": "stream",
     "text": [
      "-1092.5\n",
      "14127.5\n"
     ]
    }
   ],
   "source": [
    "lower_boundary = Q1 - 1.5*IQR\n",
    "upper_boundary = Q3 + 1.5*IQR\n",
    "\n",
    "print(lower_boundary)\n",
    "print(upper_boundary)"
   ]
  },
  {
   "cell_type": "code",
   "execution_count": 169,
   "metadata": {},
   "outputs": [
    {
     "data": {
      "text/html": [
       "<div>\n",
       "<style scoped>\n",
       "    .dataframe tbody tr th:only-of-type {\n",
       "        vertical-align: middle;\n",
       "    }\n",
       "\n",
       "    .dataframe tbody tr th {\n",
       "        vertical-align: top;\n",
       "    }\n",
       "\n",
       "    .dataframe thead th {\n",
       "        text-align: right;\n",
       "    }\n",
       "</style>\n",
       "<table border=\"1\" class=\"dataframe\">\n",
       "  <thead>\n",
       "    <tr style=\"text-align: right;\">\n",
       "      <th></th>\n",
       "      <th>report_date</th>\n",
       "      <th>load_time</th>\n",
       "      <th>load_type</th>\n",
       "      <th>load_weight</th>\n",
       "      <th>dropoff_site</th>\n",
       "    </tr>\n",
       "  </thead>\n",
       "  <tbody>\n",
       "  </tbody>\n",
       "</table>\n",
       "</div>"
      ],
      "text/plain": [
       "Empty DataFrame\n",
       "Columns: [report_date, load_time, load_type, load_weight, dropoff_site]\n",
       "Index: []"
      ]
     },
     "execution_count": 169,
     "metadata": {},
     "output_type": "execute_result"
    }
   ],
   "source": [
    "df_Hornsby[df_Hornsby['load_weight']<lower_boundary]"
   ]
  },
  {
   "cell_type": "code",
   "execution_count": 170,
   "metadata": {},
   "outputs": [
    {
     "data": {
      "text/html": [
       "<div>\n",
       "<style scoped>\n",
       "    .dataframe tbody tr th:only-of-type {\n",
       "        vertical-align: middle;\n",
       "    }\n",
       "\n",
       "    .dataframe tbody tr th {\n",
       "        vertical-align: top;\n",
       "    }\n",
       "\n",
       "    .dataframe thead th {\n",
       "        text-align: right;\n",
       "    }\n",
       "</style>\n",
       "<table border=\"1\" class=\"dataframe\">\n",
       "  <thead>\n",
       "    <tr style=\"text-align: right;\">\n",
       "      <th></th>\n",
       "      <th>report_date</th>\n",
       "      <th>load_time</th>\n",
       "      <th>load_type</th>\n",
       "      <th>load_weight</th>\n",
       "      <th>dropoff_site</th>\n",
       "    </tr>\n",
       "  </thead>\n",
       "  <tbody>\n",
       "    <tr>\n",
       "      <th>11</th>\n",
       "      <td>2021-01-02</td>\n",
       "      <td>2021-01-02 05:44:00 UTC</td>\n",
       "      <td>YARD TRIMMING</td>\n",
       "      <td>17660.0</td>\n",
       "      <td>HORNSBY BEND</td>\n",
       "    </tr>\n",
       "    <tr>\n",
       "      <th>12</th>\n",
       "      <td>2021-01-02</td>\n",
       "      <td>2021-01-02 12:04:00 UTC</td>\n",
       "      <td>YARD TRIMMING</td>\n",
       "      <td>18220.0</td>\n",
       "      <td>HORNSBY BEND</td>\n",
       "    </tr>\n",
       "    <tr>\n",
       "      <th>14</th>\n",
       "      <td>2021-01-02</td>\n",
       "      <td>2021-01-02 02:05:00 UTC</td>\n",
       "      <td>YARD TRIMMING</td>\n",
       "      <td>17880.0</td>\n",
       "      <td>HORNSBY BEND</td>\n",
       "    </tr>\n",
       "    <tr>\n",
       "      <th>15</th>\n",
       "      <td>2021-01-02</td>\n",
       "      <td>2021-01-02 01:02:00 UTC</td>\n",
       "      <td>YARD TRIMMING</td>\n",
       "      <td>17660.0</td>\n",
       "      <td>HORNSBY BEND</td>\n",
       "    </tr>\n",
       "    <tr>\n",
       "      <th>225</th>\n",
       "      <td>2021-01-04</td>\n",
       "      <td>2021-01-04 09:57:00 UTC</td>\n",
       "      <td>YARD TRIMMING</td>\n",
       "      <td>14540.0</td>\n",
       "      <td>HORNSBY BEND</td>\n",
       "    </tr>\n",
       "  </tbody>\n",
       "</table>\n",
       "</div>"
      ],
      "text/plain": [
       "    report_date                load_time      load_type  load_weight  \\\n",
       "11   2021-01-02  2021-01-02 05:44:00 UTC  YARD TRIMMING      17660.0   \n",
       "12   2021-01-02  2021-01-02 12:04:00 UTC  YARD TRIMMING      18220.0   \n",
       "14   2021-01-02  2021-01-02 02:05:00 UTC  YARD TRIMMING      17880.0   \n",
       "15   2021-01-02  2021-01-02 01:02:00 UTC  YARD TRIMMING      17660.0   \n",
       "225  2021-01-04  2021-01-04 09:57:00 UTC  YARD TRIMMING      14540.0   \n",
       "\n",
       "     dropoff_site  \n",
       "11   HORNSBY BEND  \n",
       "12   HORNSBY BEND  \n",
       "14   HORNSBY BEND  \n",
       "15   HORNSBY BEND  \n",
       "225  HORNSBY BEND  "
      ]
     },
     "execution_count": 170,
     "metadata": {},
     "output_type": "execute_result"
    }
   ],
   "source": [
    "outlier=df_Hornsby[df_Hornsby['load_weight']>upper_boundary]\n",
    "outlier.head()"
   ]
  },
  {
   "cell_type": "code",
   "execution_count": 171,
   "metadata": {},
   "outputs": [
    {
     "data": {
      "text/plain": [
       "48"
      ]
     },
     "execution_count": 171,
     "metadata": {},
     "output_type": "execute_result"
    }
   ],
   "source": [
    "len(outlier)"
   ]
  },
  {
   "cell_type": "markdown",
   "metadata": {},
   "source": [
    "Query untuk kondisi setelah outlier dihilangkan dan kondisi data berada di antara lower boundary dan upper boundary"
   ]
  },
  {
   "cell_type": "code",
   "execution_count": 172,
   "metadata": {},
   "outputs": [
    {
     "data": {
      "text/html": [
       "<div>\n",
       "<style scoped>\n",
       "    .dataframe tbody tr th:only-of-type {\n",
       "        vertical-align: middle;\n",
       "    }\n",
       "\n",
       "    .dataframe tbody tr th {\n",
       "        vertical-align: top;\n",
       "    }\n",
       "\n",
       "    .dataframe thead th {\n",
       "        text-align: right;\n",
       "    }\n",
       "</style>\n",
       "<table border=\"1\" class=\"dataframe\">\n",
       "  <thead>\n",
       "    <tr style=\"text-align: right;\">\n",
       "      <th></th>\n",
       "      <th>report_date</th>\n",
       "      <th>load_time</th>\n",
       "      <th>load_type</th>\n",
       "      <th>load_weight</th>\n",
       "      <th>dropoff_site</th>\n",
       "    </tr>\n",
       "  </thead>\n",
       "  <tbody>\n",
       "    <tr>\n",
       "      <th>13</th>\n",
       "      <td>2021-01-02</td>\n",
       "      <td>2021-01-02 05:45:00 UTC</td>\n",
       "      <td>YARD TRIMMING</td>\n",
       "      <td>7400.0</td>\n",
       "      <td>HORNSBY BEND</td>\n",
       "    </tr>\n",
       "    <tr>\n",
       "      <th>219</th>\n",
       "      <td>2021-01-04</td>\n",
       "      <td>2021-01-04 12:01:00 UTC</td>\n",
       "      <td>BRUSH</td>\n",
       "      <td>7140.0</td>\n",
       "      <td>HORNSBY BEND</td>\n",
       "    </tr>\n",
       "    <tr>\n",
       "      <th>221</th>\n",
       "      <td>2021-01-04</td>\n",
       "      <td>2021-01-04 01:21:00 UTC</td>\n",
       "      <td>BRUSH</td>\n",
       "      <td>7000.0</td>\n",
       "      <td>HORNSBY BEND</td>\n",
       "    </tr>\n",
       "    <tr>\n",
       "      <th>222</th>\n",
       "      <td>2021-01-04</td>\n",
       "      <td>2021-01-04 03:16:00 UTC</td>\n",
       "      <td>BRUSH</td>\n",
       "      <td>8160.0</td>\n",
       "      <td>HORNSBY BEND</td>\n",
       "    </tr>\n",
       "    <tr>\n",
       "      <th>223</th>\n",
       "      <td>2021-01-04</td>\n",
       "      <td>2021-01-04 08:18:00 UTC</td>\n",
       "      <td>BRUSH</td>\n",
       "      <td>9440.0</td>\n",
       "      <td>HORNSBY BEND</td>\n",
       "    </tr>\n",
       "    <tr>\n",
       "      <th>...</th>\n",
       "      <td>...</td>\n",
       "      <td>...</td>\n",
       "      <td>...</td>\n",
       "      <td>...</td>\n",
       "      <td>...</td>\n",
       "    </tr>\n",
       "    <tr>\n",
       "      <th>26140</th>\n",
       "      <td>2021-07-09</td>\n",
       "      <td>2021-07-09 02:57:00 UTC</td>\n",
       "      <td>BRUSH</td>\n",
       "      <td>5500.0</td>\n",
       "      <td>HORNSBY BEND</td>\n",
       "    </tr>\n",
       "    <tr>\n",
       "      <th>26138</th>\n",
       "      <td>2021-07-09</td>\n",
       "      <td>2021-07-09 05:40:00 UTC</td>\n",
       "      <td>BRUSH</td>\n",
       "      <td>5500.0</td>\n",
       "      <td>HORNSBY BEND</td>\n",
       "    </tr>\n",
       "    <tr>\n",
       "      <th>26137</th>\n",
       "      <td>2021-07-09</td>\n",
       "      <td>2021-07-09 06:32:00 UTC</td>\n",
       "      <td>BRUSH</td>\n",
       "      <td>5500.0</td>\n",
       "      <td>HORNSBY BEND</td>\n",
       "    </tr>\n",
       "    <tr>\n",
       "      <th>26136</th>\n",
       "      <td>2021-07-09</td>\n",
       "      <td>2021-07-09 10:55:00 UTC</td>\n",
       "      <td>BRUSH</td>\n",
       "      <td>3680.0</td>\n",
       "      <td>HORNSBY BEND</td>\n",
       "    </tr>\n",
       "    <tr>\n",
       "      <th>26145</th>\n",
       "      <td>2021-07-09</td>\n",
       "      <td>2021-07-09 10:07:00 UTC</td>\n",
       "      <td>BRUSH</td>\n",
       "      <td>7360.0</td>\n",
       "      <td>HORNSBY BEND</td>\n",
       "    </tr>\n",
       "  </tbody>\n",
       "</table>\n",
       "<p>1604 rows × 5 columns</p>\n",
       "</div>"
      ],
      "text/plain": [
       "      report_date                load_time      load_type  load_weight  \\\n",
       "13     2021-01-02  2021-01-02 05:45:00 UTC  YARD TRIMMING       7400.0   \n",
       "219    2021-01-04  2021-01-04 12:01:00 UTC          BRUSH       7140.0   \n",
       "221    2021-01-04  2021-01-04 01:21:00 UTC          BRUSH       7000.0   \n",
       "222    2021-01-04  2021-01-04 03:16:00 UTC          BRUSH       8160.0   \n",
       "223    2021-01-04  2021-01-04 08:18:00 UTC          BRUSH       9440.0   \n",
       "...           ...                      ...            ...          ...   \n",
       "26140  2021-07-09  2021-07-09 02:57:00 UTC          BRUSH       5500.0   \n",
       "26138  2021-07-09  2021-07-09 05:40:00 UTC          BRUSH       5500.0   \n",
       "26137  2021-07-09  2021-07-09 06:32:00 UTC          BRUSH       5500.0   \n",
       "26136  2021-07-09  2021-07-09 10:55:00 UTC          BRUSH       3680.0   \n",
       "26145  2021-07-09  2021-07-09 10:07:00 UTC          BRUSH       7360.0   \n",
       "\n",
       "       dropoff_site  \n",
       "13     HORNSBY BEND  \n",
       "219    HORNSBY BEND  \n",
       "221    HORNSBY BEND  \n",
       "222    HORNSBY BEND  \n",
       "223    HORNSBY BEND  \n",
       "...             ...  \n",
       "26140  HORNSBY BEND  \n",
       "26138  HORNSBY BEND  \n",
       "26137  HORNSBY BEND  \n",
       "26136  HORNSBY BEND  \n",
       "26145  HORNSBY BEND  \n",
       "\n",
       "[1604 rows x 5 columns]"
      ]
     },
     "execution_count": 172,
     "metadata": {},
     "output_type": "execute_result"
    }
   ],
   "source": [
    "#query dengan 2 kondisi\n",
    "df_Hornsby_clean = df_Hornsby[(df_Hornsby['load_weight'] < upper_boundary) & (df_Hornsby['load_weight'] >lower_boundary)]\n",
    "df_Hornsby_clean"
   ]
  },
  {
   "cell_type": "code",
   "execution_count": 173,
   "metadata": {},
   "outputs": [
    {
     "data": {
      "text/plain": [
       "1652"
      ]
     },
     "execution_count": 173,
     "metadata": {},
     "output_type": "execute_result"
    }
   ],
   "source": [
    "#Jumlah rows sebelum cleaning\n",
    "len(df_Hornsby)"
   ]
  },
  {
   "cell_type": "code",
   "execution_count": 174,
   "metadata": {},
   "outputs": [
    {
     "data": {
      "text/plain": [
       "1604"
      ]
     },
     "execution_count": 174,
     "metadata": {},
     "output_type": "execute_result"
    }
   ],
   "source": [
    "#Jumlah rows setelah cleaning\n",
    "len(df_Hornsby_clean)"
   ]
  },
  {
   "cell_type": "code",
   "execution_count": 175,
   "metadata": {},
   "outputs": [
    {
     "data": {
      "text/plain": [
       "2.9055690072639226"
      ]
     },
     "execution_count": 175,
     "metadata": {},
     "output_type": "execute_result"
    }
   ],
   "source": [
    "#Persentase outlier\n",
    "persentase = (len(outlier) / len(df_Hornsby) )*100\n",
    "persentase"
   ]
  },
  {
   "cell_type": "markdown",
   "metadata": {},
   "source": [
    "## Membandingkan central tendency data yang telah dikeluarkan outliernya dengan yang belum"
   ]
  },
  {
   "cell_type": "markdown",
   "metadata": {},
   "source": [
    "Central tendecy sebelum outlier dikeluarkan"
   ]
  },
  {
   "cell_type": "code",
   "execution_count": 176,
   "metadata": {},
   "outputs": [
    {
     "data": {
      "text/plain": [
       "dropoff_site\n",
       "HORNSBY BEND    6628.644068\n",
       "Name: load_weight, dtype: float64"
      ]
     },
     "execution_count": 176,
     "metadata": {},
     "output_type": "execute_result"
    }
   ],
   "source": [
    "# mean \n",
    "df_Hornsby.groupby('dropoff_site')['load_weight'].mean()"
   ]
  },
  {
   "cell_type": "markdown",
   "metadata": {},
   "source": [
    "Central tendecy setelah outlier dikeluarkan"
   ]
  },
  {
   "cell_type": "code",
   "execution_count": 177,
   "metadata": {},
   "outputs": [
    {
     "data": {
      "text/plain": [
       "dropoff_site\n",
       "HORNSBY BEND    6333.229426\n",
       "Name: load_weight, dtype: float64"
      ]
     },
     "execution_count": 177,
     "metadata": {},
     "output_type": "execute_result"
    }
   ],
   "source": [
    "# mean\n",
    "df_Hornsby_clean.groupby('dropoff_site')['load_weight'].mean()"
   ]
  },
  {
   "cell_type": "markdown",
   "metadata": {},
   "source": [
    "Central tendecy sebelum outlier dikeluarkan"
   ]
  },
  {
   "cell_type": "code",
   "execution_count": 178,
   "metadata": {},
   "outputs": [
    {
     "data": {
      "text/plain": [
       "dropoff_site\n",
       "HORNSBY BEND    6390.0\n",
       "Name: load_weight, dtype: float64"
      ]
     },
     "execution_count": 178,
     "metadata": {},
     "output_type": "execute_result"
    }
   ],
   "source": [
    "# median \n",
    "df_Hornsby.groupby('dropoff_site')['load_weight'].median()"
   ]
  },
  {
   "cell_type": "markdown",
   "metadata": {},
   "source": [
    "Central tendecy setelah outlier dikeluarkan"
   ]
  },
  {
   "cell_type": "code",
   "execution_count": 179,
   "metadata": {},
   "outputs": [
    {
     "data": {
      "text/plain": [
       "dropoff_site\n",
       "HORNSBY BEND    6290.0\n",
       "Name: load_weight, dtype: float64"
      ]
     },
     "execution_count": 179,
     "metadata": {},
     "output_type": "execute_result"
    }
   ],
   "source": [
    "# median\n",
    "df_Hornsby_clean.groupby('dropoff_site')['load_weight'].median()"
   ]
  },
  {
   "cell_type": "markdown",
   "metadata": {},
   "source": [
    "Central tendecy sebelum outlier dikeluarkan"
   ]
  },
  {
   "cell_type": "code",
   "execution_count": 180,
   "metadata": {},
   "outputs": [
    {
     "data": {
      "text/plain": [
       "0    BRUSH\n",
       "Name: load_type, dtype: object"
      ]
     },
     "execution_count": 180,
     "metadata": {},
     "output_type": "execute_result"
    }
   ],
   "source": [
    "# modus\n",
    "df_Hornsby['load_type'].mode()"
   ]
  },
  {
   "cell_type": "markdown",
   "metadata": {},
   "source": [
    "Central tendecy setelah outlier dikeluarkan"
   ]
  },
  {
   "cell_type": "code",
   "execution_count": 181,
   "metadata": {},
   "outputs": [
    {
     "data": {
      "text/plain": [
       "0    BRUSH\n",
       "Name: load_type, dtype: object"
      ]
     },
     "execution_count": 181,
     "metadata": {},
     "output_type": "execute_result"
    }
   ],
   "source": [
    "# modus\n",
    "df_Hornsby_clean['load_type'].mode()"
   ]
  },
  {
   "cell_type": "markdown",
   "metadata": {},
   "source": [
    "## 6.Menggunakan site yang telah dipilih untuk dihitung range, variance, dan standar deviasi untuk data load_weight. "
   ]
  },
  {
   "cell_type": "code",
   "execution_count": 182,
   "metadata": {},
   "outputs": [
    {
     "data": {
      "text/html": [
       "<div>\n",
       "<style scoped>\n",
       "    .dataframe tbody tr th:only-of-type {\n",
       "        vertical-align: middle;\n",
       "    }\n",
       "\n",
       "    .dataframe tbody tr th {\n",
       "        vertical-align: top;\n",
       "    }\n",
       "\n",
       "    .dataframe thead th {\n",
       "        text-align: right;\n",
       "    }\n",
       "</style>\n",
       "<table border=\"1\" class=\"dataframe\">\n",
       "  <thead>\n",
       "    <tr style=\"text-align: right;\">\n",
       "      <th></th>\n",
       "      <th>load_weight</th>\n",
       "    </tr>\n",
       "    <tr>\n",
       "      <th>load_type</th>\n",
       "      <th></th>\n",
       "    </tr>\n",
       "  </thead>\n",
       "  <tbody>\n",
       "    <tr>\n",
       "      <th>GARBAGE COLLECTIONS</th>\n",
       "      <td>8600.0</td>\n",
       "    </tr>\n",
       "    <tr>\n",
       "      <th>ORGANICS</th>\n",
       "      <td>9720.0</td>\n",
       "    </tr>\n",
       "    <tr>\n",
       "      <th>BRUSH</th>\n",
       "      <td>19660.0</td>\n",
       "    </tr>\n",
       "    <tr>\n",
       "      <th>YARD TRIMMING</th>\n",
       "      <td>20460.0</td>\n",
       "    </tr>\n",
       "  </tbody>\n",
       "</table>\n",
       "</div>"
      ],
      "text/plain": [
       "                     load_weight\n",
       "load_type                       \n",
       "GARBAGE COLLECTIONS       8600.0\n",
       "ORGANICS                  9720.0\n",
       "BRUSH                    19660.0\n",
       "YARD TRIMMING            20460.0"
      ]
     },
     "execution_count": 182,
     "metadata": {},
     "output_type": "execute_result"
    }
   ],
   "source": [
    "# Site yang dipilih\n",
    "df_Hornsby.groupby('load_type')[['load_weight']].max().sort_values(by='load_weight', ascending=True)"
   ]
  },
  {
   "cell_type": "code",
   "execution_count": 183,
   "metadata": {},
   "outputs": [
    {
     "name": "stdout",
     "output_type": "stream",
     "text": [
      "Missing Total : 0\n",
      "Missing Percentage:0.00%\n"
     ]
    }
   ],
   "source": [
    "missing_Hornsby =df_Hornsby[df_Hornsby['load_weight'].isnull()]\n",
    "missing_perc = len(missing_Hornsby) / len(df)*100\n",
    "print('Missing Total : {}\\nMissing Percentage:{:.2f}%'.format(len(missing_Hornsby), missing_perc))"
   ]
  },
  {
   "cell_type": "markdown",
   "metadata": {},
   "source": [
    "Menghitung Range"
   ]
  },
  {
   "cell_type": "code",
   "execution_count": 184,
   "metadata": {},
   "outputs": [
    {
     "name": "stdout",
     "output_type": "stream",
     "text": [
      "load_weightrange: 14060.0\n"
     ]
    }
   ],
   "source": [
    "numcols = ['load_weight']\n",
    "for i in numcols :\n",
    "    print(df_Hornsby_clean[i].name + 'range: ' + str(df_Hornsby_clean[i].max() - df_Hornsby_clean[i].min()))"
   ]
  },
  {
   "cell_type": "markdown",
   "metadata": {},
   "source": [
    "Menghitung Variance"
   ]
  },
  {
   "cell_type": "code",
   "execution_count": 185,
   "metadata": {},
   "outputs": [
    {
     "data": {
      "text/plain": [
       "7733348.266731789"
      ]
     },
     "execution_count": 185,
     "metadata": {},
     "output_type": "execute_result"
    }
   ],
   "source": [
    "(df_Hornsby_clean['load_weight'].var())"
   ]
  },
  {
   "cell_type": "markdown",
   "metadata": {},
   "source": [
    "Menghitung Standar Deviasi"
   ]
  },
  {
   "cell_type": "code",
   "execution_count": 186,
   "metadata": {},
   "outputs": [
    {
     "name": "stdout",
     "output_type": "stream",
     "text": [
      "2780.889833620129\n"
     ]
    }
   ],
   "source": [
    "print(df_Hornsby_clean['load_weight'].std())"
   ]
  },
  {
   "cell_type": "markdown",
   "metadata": {},
   "source": [
    "## 7.Memberikan analisa dan saran terkait berapa kapasitas penampungan di site baru berdasarkan perhitungan confidence interval"
   ]
  },
  {
   "cell_type": "code",
   "execution_count": 187,
   "metadata": {},
   "outputs": [
    {
     "data": {
      "text/plain": [
       "25109"
      ]
     },
     "execution_count": 187,
     "metadata": {},
     "output_type": "execute_result"
    }
   ],
   "source": [
    "len(df)"
   ]
  },
  {
   "cell_type": "code",
   "execution_count": 188,
   "metadata": {},
   "outputs": [
    {
     "data": {
      "text/html": [
       "<div>\n",
       "<style scoped>\n",
       "    .dataframe tbody tr th:only-of-type {\n",
       "        vertical-align: middle;\n",
       "    }\n",
       "\n",
       "    .dataframe tbody tr th {\n",
       "        vertical-align: top;\n",
       "    }\n",
       "\n",
       "    .dataframe thead th {\n",
       "        text-align: right;\n",
       "    }\n",
       "</style>\n",
       "<table border=\"1\" class=\"dataframe\">\n",
       "  <thead>\n",
       "    <tr style=\"text-align: right;\">\n",
       "      <th></th>\n",
       "      <th>report_date</th>\n",
       "      <th>load_time</th>\n",
       "      <th>load_type</th>\n",
       "      <th>load_weight</th>\n",
       "      <th>dropoff_site</th>\n",
       "    </tr>\n",
       "  </thead>\n",
       "  <tbody>\n",
       "    <tr>\n",
       "      <th>4</th>\n",
       "      <td>2021-01-02</td>\n",
       "      <td>2021-01-02 09:24:00 UTC</td>\n",
       "      <td>TIRES</td>\n",
       "      <td>1640.0</td>\n",
       "      <td>MRF</td>\n",
       "    </tr>\n",
       "    <tr>\n",
       "      <th>108</th>\n",
       "      <td>2021-01-02</td>\n",
       "      <td>2021-01-02 11:46:00 UTC</td>\n",
       "      <td>ORGANICS</td>\n",
       "      <td>13560.0</td>\n",
       "      <td>ORGANICS BY GOSH</td>\n",
       "    </tr>\n",
       "    <tr>\n",
       "      <th>109</th>\n",
       "      <td>2021-01-02</td>\n",
       "      <td>2021-01-02 02:51:00 UTC</td>\n",
       "      <td>ORGANICS</td>\n",
       "      <td>9360.0</td>\n",
       "      <td>ORGANICS BY GOSH</td>\n",
       "    </tr>\n",
       "    <tr>\n",
       "      <th>110</th>\n",
       "      <td>2021-01-02</td>\n",
       "      <td>2021-01-04 07:57:00 UTC</td>\n",
       "      <td>ORGANICS</td>\n",
       "      <td>2700.0</td>\n",
       "      <td>ORGANICS BY GOSH</td>\n",
       "    </tr>\n",
       "    <tr>\n",
       "      <th>111</th>\n",
       "      <td>2021-01-02</td>\n",
       "      <td>2021-01-02 12:22:00 UTC</td>\n",
       "      <td>RECYCLING - SINGLE STREAM</td>\n",
       "      <td>8760.0</td>\n",
       "      <td>BALCONES RECYCLING</td>\n",
       "    </tr>\n",
       "    <tr>\n",
       "      <th>...</th>\n",
       "      <td>...</td>\n",
       "      <td>...</td>\n",
       "      <td>...</td>\n",
       "      <td>...</td>\n",
       "      <td>...</td>\n",
       "    </tr>\n",
       "    <tr>\n",
       "      <th>26137</th>\n",
       "      <td>2021-07-09</td>\n",
       "      <td>2021-07-09 06:32:00 UTC</td>\n",
       "      <td>BRUSH</td>\n",
       "      <td>5500.0</td>\n",
       "      <td>HORNSBY BEND</td>\n",
       "    </tr>\n",
       "    <tr>\n",
       "      <th>26136</th>\n",
       "      <td>2021-07-09</td>\n",
       "      <td>2021-07-09 10:55:00 UTC</td>\n",
       "      <td>BRUSH</td>\n",
       "      <td>3680.0</td>\n",
       "      <td>HORNSBY BEND</td>\n",
       "    </tr>\n",
       "    <tr>\n",
       "      <th>26155</th>\n",
       "      <td>2021-07-09</td>\n",
       "      <td>2021-07-09 12:00:00 UTC</td>\n",
       "      <td>LITTER</td>\n",
       "      <td>1900.0</td>\n",
       "      <td>TDS LANDFILL</td>\n",
       "    </tr>\n",
       "    <tr>\n",
       "      <th>26145</th>\n",
       "      <td>2021-07-09</td>\n",
       "      <td>2021-07-09 10:07:00 UTC</td>\n",
       "      <td>BRUSH</td>\n",
       "      <td>7360.0</td>\n",
       "      <td>HORNSBY BEND</td>\n",
       "    </tr>\n",
       "    <tr>\n",
       "      <th>26156</th>\n",
       "      <td>2021-07-09</td>\n",
       "      <td>2021-07-09 12:00:00 UTC</td>\n",
       "      <td>LITTER</td>\n",
       "      <td>3040.0</td>\n",
       "      <td>TDS LANDFILL</td>\n",
       "    </tr>\n",
       "  </tbody>\n",
       "</table>\n",
       "<p>25109 rows × 5 columns</p>\n",
       "</div>"
      ],
      "text/plain": [
       "      report_date                load_time                  load_type  \\\n",
       "4      2021-01-02  2021-01-02 09:24:00 UTC                      TIRES   \n",
       "108    2021-01-02  2021-01-02 11:46:00 UTC                   ORGANICS   \n",
       "109    2021-01-02  2021-01-02 02:51:00 UTC                   ORGANICS   \n",
       "110    2021-01-02  2021-01-04 07:57:00 UTC                   ORGANICS   \n",
       "111    2021-01-02  2021-01-02 12:22:00 UTC  RECYCLING - SINGLE STREAM   \n",
       "...           ...                      ...                        ...   \n",
       "26137  2021-07-09  2021-07-09 06:32:00 UTC                      BRUSH   \n",
       "26136  2021-07-09  2021-07-09 10:55:00 UTC                      BRUSH   \n",
       "26155  2021-07-09  2021-07-09 12:00:00 UTC                     LITTER   \n",
       "26145  2021-07-09  2021-07-09 10:07:00 UTC                      BRUSH   \n",
       "26156  2021-07-09  2021-07-09 12:00:00 UTC                     LITTER   \n",
       "\n",
       "       load_weight        dropoff_site  \n",
       "4           1640.0                 MRF  \n",
       "108        13560.0    ORGANICS BY GOSH  \n",
       "109         9360.0    ORGANICS BY GOSH  \n",
       "110         2700.0    ORGANICS BY GOSH  \n",
       "111         8760.0  BALCONES RECYCLING  \n",
       "...            ...                 ...  \n",
       "26137       5500.0        HORNSBY BEND  \n",
       "26136       3680.0        HORNSBY BEND  \n",
       "26155       1900.0        TDS LANDFILL  \n",
       "26145       7360.0        HORNSBY BEND  \n",
       "26156       3040.0        TDS LANDFILL  \n",
       "\n",
       "[25109 rows x 5 columns]"
      ]
     },
     "execution_count": 188,
     "metadata": {},
     "output_type": "execute_result"
    }
   ],
   "source": [
    "df"
   ]
  },
  {
   "cell_type": "code",
   "execution_count": 189,
   "metadata": {},
   "outputs": [
    {
     "data": {
      "text/plain": [
       "array(['TIRES', 'ORGANICS', 'RECYCLING - SINGLE STREAM',\n",
       "       'GARBAGE COLLECTIONS', 'MIXED LITTER', 'YARD TRIMMING', 'BULK',\n",
       "       'DEAD ANIMAL', 'SWEEPING', 'BRUSH', 'RECYCLED METAL', 'LITTER',\n",
       "       'CONTAMINATED RECYCLING', 'CONTAMINATED ORGANICS'], dtype=object)"
      ]
     },
     "execution_count": 189,
     "metadata": {},
     "output_type": "execute_result"
    }
   ],
   "source": [
    "df[\"load_type\"].unique()"
   ]
  },
  {
   "cell_type": "markdown",
   "metadata": {},
   "source": [
    "## Menentukan keputusan site bertambah atau tidak berdasarkan site dengan mean terbanyak"
   ]
  },
  {
   "cell_type": "code",
   "execution_count": 190,
   "metadata": {},
   "outputs": [
    {
     "data": {
      "text/html": [
       "<div>\n",
       "<style scoped>\n",
       "    .dataframe tbody tr th:only-of-type {\n",
       "        vertical-align: middle;\n",
       "    }\n",
       "\n",
       "    .dataframe tbody tr th {\n",
       "        vertical-align: top;\n",
       "    }\n",
       "\n",
       "    .dataframe thead th {\n",
       "        text-align: right;\n",
       "    }\n",
       "</style>\n",
       "<table border=\"1\" class=\"dataframe\">\n",
       "  <thead>\n",
       "    <tr style=\"text-align: right;\">\n",
       "      <th></th>\n",
       "      <th>report_date</th>\n",
       "      <th>load_time</th>\n",
       "      <th>load_type</th>\n",
       "      <th>load_weight</th>\n",
       "      <th>dropoff_site</th>\n",
       "    </tr>\n",
       "  </thead>\n",
       "  <tbody>\n",
       "    <tr>\n",
       "      <th>4273</th>\n",
       "      <td>2021-02-02</td>\n",
       "      <td>2021-02-02 04:42:00 UTC</td>\n",
       "      <td>GARBAGE COLLECTIONS</td>\n",
       "      <td>21320.0</td>\n",
       "      <td>GREAT NORTHERN</td>\n",
       "    </tr>\n",
       "    <tr>\n",
       "      <th>5181</th>\n",
       "      <td>2021-02-09</td>\n",
       "      <td>2021-02-09 01:53:00 UTC</td>\n",
       "      <td>GARBAGE COLLECTIONS</td>\n",
       "      <td>21960.0</td>\n",
       "      <td>GREAT NORTHERN</td>\n",
       "    </tr>\n",
       "    <tr>\n",
       "      <th>6198</th>\n",
       "      <td>2021-02-23</td>\n",
       "      <td>2021-02-23 02:02:00 UTC</td>\n",
       "      <td>GARBAGE COLLECTIONS</td>\n",
       "      <td>24880.0</td>\n",
       "      <td>GREAT NORTHERN</td>\n",
       "    </tr>\n",
       "    <tr>\n",
       "      <th>6388</th>\n",
       "      <td>2021-02-24</td>\n",
       "      <td>2021-02-24 04:35:00 UTC</td>\n",
       "      <td>GARBAGE COLLECTIONS</td>\n",
       "      <td>8700.0</td>\n",
       "      <td>GREAT NORTHERN</td>\n",
       "    </tr>\n",
       "    <tr>\n",
       "      <th>18518</th>\n",
       "      <td>2021-05-12</td>\n",
       "      <td>2021-05-12 12:49:00 UTC</td>\n",
       "      <td>GARBAGE COLLECTIONS</td>\n",
       "      <td>17160.0</td>\n",
       "      <td>GREAT NORTHERN</td>\n",
       "    </tr>\n",
       "    <tr>\n",
       "      <th>24396</th>\n",
       "      <td>2021-06-24</td>\n",
       "      <td>2021-06-24 01:22:00 UTC</td>\n",
       "      <td>GARBAGE COLLECTIONS</td>\n",
       "      <td>20900.0</td>\n",
       "      <td>GREAT NORTHERN</td>\n",
       "    </tr>\n",
       "  </tbody>\n",
       "</table>\n",
       "</div>"
      ],
      "text/plain": [
       "      report_date                load_time            load_type  load_weight  \\\n",
       "4273   2021-02-02  2021-02-02 04:42:00 UTC  GARBAGE COLLECTIONS      21320.0   \n",
       "5181   2021-02-09  2021-02-09 01:53:00 UTC  GARBAGE COLLECTIONS      21960.0   \n",
       "6198   2021-02-23  2021-02-23 02:02:00 UTC  GARBAGE COLLECTIONS      24880.0   \n",
       "6388   2021-02-24  2021-02-24 04:35:00 UTC  GARBAGE COLLECTIONS       8700.0   \n",
       "18518  2021-05-12  2021-05-12 12:49:00 UTC  GARBAGE COLLECTIONS      17160.0   \n",
       "24396  2021-06-24  2021-06-24 01:22:00 UTC  GARBAGE COLLECTIONS      20900.0   \n",
       "\n",
       "         dropoff_site  \n",
       "4273   GREAT NORTHERN  \n",
       "5181   GREAT NORTHERN  \n",
       "6198   GREAT NORTHERN  \n",
       "6388   GREAT NORTHERN  \n",
       "18518  GREAT NORTHERN  \n",
       "24396  GREAT NORTHERN  "
      ]
     },
     "execution_count": 190,
     "metadata": {},
     "output_type": "execute_result"
    }
   ],
   "source": [
    "df_mean_terbanyak=df[df['dropoff_site'] == 'GREAT NORTHERN']\n",
    "df_mean_terbanyak"
   ]
  },
  {
   "cell_type": "code",
   "execution_count": 191,
   "metadata": {},
   "outputs": [
    {
     "name": "stderr",
     "output_type": "stream",
     "text": [
      "C:\\Users\\fachm\\AppData\\Local\\Temp\\ipykernel_15156\\3406530474.py:1: FutureWarning: Dropping of nuisance columns in DataFrame reductions (with 'numeric_only=None') is deprecated; in a future version this will raise TypeError.  Select only valid columns before calling the reduction.\n",
      "  df_mean_terbanyak.sum()\n"
     ]
    },
    {
     "data": {
      "text/plain": [
       "load_time       2021-02-02 04:42:00 UTC2021-02-09 01:53:00 UTC...\n",
       "load_type       GARBAGE COLLECTIONSGARBAGE COLLECTIONSGARBAGE ...\n",
       "load_weight                                              114920.0\n",
       "dropoff_site    GREAT NORTHERNGREAT NORTHERNGREAT NORTHERNGREA...\n",
       "dtype: object"
      ]
     },
     "execution_count": 191,
     "metadata": {},
     "output_type": "execute_result"
    }
   ],
   "source": [
    "df_mean_terbanyak.sum()"
   ]
  },
  {
   "cell_type": "code",
   "execution_count": 192,
   "metadata": {},
   "outputs": [
    {
     "data": {
      "text/plain": [
       "-1.5090096398210502"
      ]
     },
     "execution_count": 192,
     "metadata": {},
     "output_type": "execute_result"
    }
   ],
   "source": [
    "df_mean_terbanyak['load_weight'].skew()"
   ]
  },
  {
   "cell_type": "markdown",
   "metadata": {},
   "source": [
    "nilai skew sebesar -1.5090096398210502 "
   ]
  },
  {
   "cell_type": "code",
   "execution_count": 193,
   "metadata": {},
   "outputs": [
    {
     "name": "stdout",
     "output_type": "stream",
     "text": [
      "kuartil 1=  18095.0\n",
      "kuartil 3=  21800.0\n",
      "IQR=  3705.0\n"
     ]
    }
   ],
   "source": [
    "Q1_mean_terbanyak = np.quantile(df_mean_terbanyak['load_weight'], .25)\n",
    "Q3_mean_terbanyak = np.quantile(df_mean_terbanyak['load_weight'], .75)\n",
    "\n",
    "IQR = Q3_mean_terbanyak-Q1_mean_terbanyak\n",
    "\n",
    "print('kuartil 1= ',Q1_mean_terbanyak)\n",
    "print('kuartil 3= ',Q3_mean_terbanyak)\n",
    "print('IQR= ',IQR)"
   ]
  },
  {
   "cell_type": "code",
   "execution_count": 194,
   "metadata": {},
   "outputs": [
    {
     "name": "stdout",
     "output_type": "stream",
     "text": [
      "6980.0\n",
      "32915.0\n"
     ]
    }
   ],
   "source": [
    "lower_boundary = Q1_mean_terbanyak - 3*IQR\n",
    "upper_boundary = Q3_mean_terbanyak + 3*IQR\n",
    "\n",
    "print(lower_boundary)\n",
    "print(upper_boundary)"
   ]
  },
  {
   "cell_type": "code",
   "execution_count": 195,
   "metadata": {},
   "outputs": [
    {
     "data": {
      "text/html": [
       "<div>\n",
       "<style scoped>\n",
       "    .dataframe tbody tr th:only-of-type {\n",
       "        vertical-align: middle;\n",
       "    }\n",
       "\n",
       "    .dataframe tbody tr th {\n",
       "        vertical-align: top;\n",
       "    }\n",
       "\n",
       "    .dataframe thead th {\n",
       "        text-align: right;\n",
       "    }\n",
       "</style>\n",
       "<table border=\"1\" class=\"dataframe\">\n",
       "  <thead>\n",
       "    <tr style=\"text-align: right;\">\n",
       "      <th></th>\n",
       "      <th>report_date</th>\n",
       "      <th>load_time</th>\n",
       "      <th>load_type</th>\n",
       "      <th>load_weight</th>\n",
       "      <th>dropoff_site</th>\n",
       "    </tr>\n",
       "  </thead>\n",
       "  <tbody>\n",
       "  </tbody>\n",
       "</table>\n",
       "</div>"
      ],
      "text/plain": [
       "Empty DataFrame\n",
       "Columns: [report_date, load_time, load_type, load_weight, dropoff_site]\n",
       "Index: []"
      ]
     },
     "execution_count": 195,
     "metadata": {},
     "output_type": "execute_result"
    }
   ],
   "source": [
    "df_mean_terbanyak[df_mean_terbanyak['load_weight']<lower_boundary]"
   ]
  },
  {
   "cell_type": "code",
   "execution_count": 196,
   "metadata": {},
   "outputs": [
    {
     "data": {
      "text/html": [
       "<div>\n",
       "<style scoped>\n",
       "    .dataframe tbody tr th:only-of-type {\n",
       "        vertical-align: middle;\n",
       "    }\n",
       "\n",
       "    .dataframe tbody tr th {\n",
       "        vertical-align: top;\n",
       "    }\n",
       "\n",
       "    .dataframe thead th {\n",
       "        text-align: right;\n",
       "    }\n",
       "</style>\n",
       "<table border=\"1\" class=\"dataframe\">\n",
       "  <thead>\n",
       "    <tr style=\"text-align: right;\">\n",
       "      <th></th>\n",
       "      <th>report_date</th>\n",
       "      <th>load_time</th>\n",
       "      <th>load_type</th>\n",
       "      <th>load_weight</th>\n",
       "      <th>dropoff_site</th>\n",
       "    </tr>\n",
       "  </thead>\n",
       "  <tbody>\n",
       "  </tbody>\n",
       "</table>\n",
       "</div>"
      ],
      "text/plain": [
       "Empty DataFrame\n",
       "Columns: [report_date, load_time, load_type, load_weight, dropoff_site]\n",
       "Index: []"
      ]
     },
     "execution_count": 196,
     "metadata": {},
     "output_type": "execute_result"
    }
   ],
   "source": [
    "df_mean_terbanyak[df_mean_terbanyak['load_weight']>upper_boundary]"
   ]
  },
  {
   "cell_type": "code",
   "execution_count": 197,
   "metadata": {},
   "outputs": [
    {
     "data": {
      "text/html": [
       "<div>\n",
       "<style scoped>\n",
       "    .dataframe tbody tr th:only-of-type {\n",
       "        vertical-align: middle;\n",
       "    }\n",
       "\n",
       "    .dataframe tbody tr th {\n",
       "        vertical-align: top;\n",
       "    }\n",
       "\n",
       "    .dataframe thead th {\n",
       "        text-align: right;\n",
       "    }\n",
       "</style>\n",
       "<table border=\"1\" class=\"dataframe\">\n",
       "  <thead>\n",
       "    <tr style=\"text-align: right;\">\n",
       "      <th></th>\n",
       "      <th>report_date</th>\n",
       "      <th>load_time</th>\n",
       "      <th>load_type</th>\n",
       "      <th>load_weight</th>\n",
       "      <th>dropoff_site</th>\n",
       "    </tr>\n",
       "  </thead>\n",
       "  <tbody>\n",
       "    <tr>\n",
       "      <th>4273</th>\n",
       "      <td>2021-02-02</td>\n",
       "      <td>2021-02-02 04:42:00 UTC</td>\n",
       "      <td>GARBAGE COLLECTIONS</td>\n",
       "      <td>21320.0</td>\n",
       "      <td>GREAT NORTHERN</td>\n",
       "    </tr>\n",
       "    <tr>\n",
       "      <th>5181</th>\n",
       "      <td>2021-02-09</td>\n",
       "      <td>2021-02-09 01:53:00 UTC</td>\n",
       "      <td>GARBAGE COLLECTIONS</td>\n",
       "      <td>21960.0</td>\n",
       "      <td>GREAT NORTHERN</td>\n",
       "    </tr>\n",
       "    <tr>\n",
       "      <th>6198</th>\n",
       "      <td>2021-02-23</td>\n",
       "      <td>2021-02-23 02:02:00 UTC</td>\n",
       "      <td>GARBAGE COLLECTIONS</td>\n",
       "      <td>24880.0</td>\n",
       "      <td>GREAT NORTHERN</td>\n",
       "    </tr>\n",
       "    <tr>\n",
       "      <th>6388</th>\n",
       "      <td>2021-02-24</td>\n",
       "      <td>2021-02-24 04:35:00 UTC</td>\n",
       "      <td>GARBAGE COLLECTIONS</td>\n",
       "      <td>8700.0</td>\n",
       "      <td>GREAT NORTHERN</td>\n",
       "    </tr>\n",
       "    <tr>\n",
       "      <th>18518</th>\n",
       "      <td>2021-05-12</td>\n",
       "      <td>2021-05-12 12:49:00 UTC</td>\n",
       "      <td>GARBAGE COLLECTIONS</td>\n",
       "      <td>17160.0</td>\n",
       "      <td>GREAT NORTHERN</td>\n",
       "    </tr>\n",
       "    <tr>\n",
       "      <th>24396</th>\n",
       "      <td>2021-06-24</td>\n",
       "      <td>2021-06-24 01:22:00 UTC</td>\n",
       "      <td>GARBAGE COLLECTIONS</td>\n",
       "      <td>20900.0</td>\n",
       "      <td>GREAT NORTHERN</td>\n",
       "    </tr>\n",
       "  </tbody>\n",
       "</table>\n",
       "</div>"
      ],
      "text/plain": [
       "      report_date                load_time            load_type  load_weight  \\\n",
       "4273   2021-02-02  2021-02-02 04:42:00 UTC  GARBAGE COLLECTIONS      21320.0   \n",
       "5181   2021-02-09  2021-02-09 01:53:00 UTC  GARBAGE COLLECTIONS      21960.0   \n",
       "6198   2021-02-23  2021-02-23 02:02:00 UTC  GARBAGE COLLECTIONS      24880.0   \n",
       "6388   2021-02-24  2021-02-24 04:35:00 UTC  GARBAGE COLLECTIONS       8700.0   \n",
       "18518  2021-05-12  2021-05-12 12:49:00 UTC  GARBAGE COLLECTIONS      17160.0   \n",
       "24396  2021-06-24  2021-06-24 01:22:00 UTC  GARBAGE COLLECTIONS      20900.0   \n",
       "\n",
       "         dropoff_site  \n",
       "4273   GREAT NORTHERN  \n",
       "5181   GREAT NORTHERN  \n",
       "6198   GREAT NORTHERN  \n",
       "6388   GREAT NORTHERN  \n",
       "18518  GREAT NORTHERN  \n",
       "24396  GREAT NORTHERN  "
      ]
     },
     "execution_count": 197,
     "metadata": {},
     "output_type": "execute_result"
    }
   ],
   "source": [
    "#query dengan 2 kondisi\n",
    "df_mean_terbanyak = df_mean_terbanyak[(df_mean_terbanyak['load_weight'] < upper_boundary) & (df_mean_terbanyak['load_weight'] >lower_boundary)]\n",
    "df_mean_terbanyak"
   ]
  },
  {
   "cell_type": "code",
   "execution_count": 198,
   "metadata": {},
   "outputs": [
    {
     "data": {
      "text/plain": [
       "19153.333333333332"
      ]
     },
     "execution_count": 198,
     "metadata": {},
     "output_type": "execute_result"
    }
   ],
   "source": [
    "# Rata2 load_weight terbanyak dropoff_site\n",
    "mean_load_weight_terbanyak = df_mean_terbanyak['load_weight'].mean()\n",
    "mean_load_weight_terbanyak"
   ]
  },
  {
   "cell_type": "code",
   "execution_count": 199,
   "metadata": {},
   "outputs": [
    {
     "data": {
      "text/plain": [
       "(4536.555037354798, 33770.11162931187)"
      ]
     },
     "execution_count": 199,
     "metadata": {},
     "output_type": "execute_result"
    }
   ],
   "source": [
    "# karena data < 30, kita menggunakan t-test\n",
    "ci = stats.t.interval(alpha=0.95, df=len(df_mean_terbanyak['load_weight'])-1, loc=df_mean_terbanyak['load_weight'].mean(), scale=df_mean_terbanyak['load_weight'].std())\n",
    "ci"
   ]
  },
  {
   "cell_type": "code",
   "execution_count": 200,
   "metadata": {},
   "outputs": [
    {
     "data": {
      "text/plain": [
       "True"
      ]
     },
     "execution_count": 200,
     "metadata": {},
     "output_type": "execute_result"
    }
   ],
   "source": [
    "# Diantara interval atau tidak ?\n",
    "ci_mean=ci[0] <= mean_load_weight_terbanyak <= ci[1]\n",
    "ci_mean"
   ]
  },
  {
   "cell_type": "markdown",
   "metadata": {},
   "source": [
    "Data Confidience Interval(ci) yang diperolah yaitu (4536.555037354798, 33770.11162931187) berdasarkan  mean tertinggi yaitu sebesar 19153.333333333332 yang terletak pada GREAT NORTHERN ,nilai ci tersebut dinyatakan valid sebesar 95%\n",
    "\n",
    "Kesimpulannya adalah pemerintah perlu menambah site karena site GREAT NORTHERN yang memiliki mean tertinggi dibanding mean site lainnya memiliki data valid sesuai interval dan berpotensi mengalami kenaikan load_weight tiap bulannya. berdasarkan standar deviasi maka kapasitas site baru sekitar kurang lebih 33770"
   ]
  },
  {
   "cell_type": "markdown",
   "metadata": {},
   "source": [
    "## Menentukan keputusan site bertambah atau tidak berdasarkan site dengan modus terbanyak"
   ]
  },
  {
   "cell_type": "code",
   "execution_count": 201,
   "metadata": {},
   "outputs": [
    {
     "data": {
      "text/html": [
       "<div>\n",
       "<style scoped>\n",
       "    .dataframe tbody tr th:only-of-type {\n",
       "        vertical-align: middle;\n",
       "    }\n",
       "\n",
       "    .dataframe tbody tr th {\n",
       "        vertical-align: top;\n",
       "    }\n",
       "\n",
       "    .dataframe thead th {\n",
       "        text-align: right;\n",
       "    }\n",
       "</style>\n",
       "<table border=\"1\" class=\"dataframe\">\n",
       "  <thead>\n",
       "    <tr style=\"text-align: right;\">\n",
       "      <th></th>\n",
       "      <th>report_date</th>\n",
       "      <th>load_time</th>\n",
       "      <th>load_type</th>\n",
       "      <th>load_weight</th>\n",
       "      <th>dropoff_site</th>\n",
       "    </tr>\n",
       "  </thead>\n",
       "  <tbody>\n",
       "    <tr>\n",
       "      <th>28</th>\n",
       "      <td>2021-01-02</td>\n",
       "      <td>2021-01-02 01:02:00 UTC</td>\n",
       "      <td>GARBAGE COLLECTIONS</td>\n",
       "      <td>8420.0</td>\n",
       "      <td>TDS LANDFILL</td>\n",
       "    </tr>\n",
       "    <tr>\n",
       "      <th>29</th>\n",
       "      <td>2021-01-02</td>\n",
       "      <td>2021-01-02 11:13:00 UTC</td>\n",
       "      <td>GARBAGE COLLECTIONS</td>\n",
       "      <td>12380.0</td>\n",
       "      <td>TDS LANDFILL</td>\n",
       "    </tr>\n",
       "    <tr>\n",
       "      <th>30</th>\n",
       "      <td>2021-01-02</td>\n",
       "      <td>2021-01-02 12:20:00 UTC</td>\n",
       "      <td>GARBAGE COLLECTIONS</td>\n",
       "      <td>8400.0</td>\n",
       "      <td>TDS LANDFILL</td>\n",
       "    </tr>\n",
       "    <tr>\n",
       "      <th>31</th>\n",
       "      <td>2021-01-02</td>\n",
       "      <td>2021-01-02 12:40:00 UTC</td>\n",
       "      <td>GARBAGE COLLECTIONS</td>\n",
       "      <td>19660.0</td>\n",
       "      <td>TDS LANDFILL</td>\n",
       "    </tr>\n",
       "    <tr>\n",
       "      <th>32</th>\n",
       "      <td>2021-01-02</td>\n",
       "      <td>2021-01-02 12:00:00 UTC</td>\n",
       "      <td>GARBAGE COLLECTIONS</td>\n",
       "      <td>11940.0</td>\n",
       "      <td>TDS LANDFILL</td>\n",
       "    </tr>\n",
       "    <tr>\n",
       "      <th>...</th>\n",
       "      <td>...</td>\n",
       "      <td>...</td>\n",
       "      <td>...</td>\n",
       "      <td>...</td>\n",
       "      <td>...</td>\n",
       "    </tr>\n",
       "    <tr>\n",
       "      <th>26057</th>\n",
       "      <td>2021-07-08</td>\n",
       "      <td>2021-07-08 12:40:00 UTC</td>\n",
       "      <td>GARBAGE COLLECTIONS</td>\n",
       "      <td>26460.0</td>\n",
       "      <td>TDS LANDFILL</td>\n",
       "    </tr>\n",
       "    <tr>\n",
       "      <th>26058</th>\n",
       "      <td>2021-07-08</td>\n",
       "      <td>2021-07-08 12:33:00 UTC</td>\n",
       "      <td>GARBAGE COLLECTIONS</td>\n",
       "      <td>17840.0</td>\n",
       "      <td>TDS LANDFILL</td>\n",
       "    </tr>\n",
       "    <tr>\n",
       "      <th>26053</th>\n",
       "      <td>2021-07-08</td>\n",
       "      <td>2021-07-08 12:47:00 UTC</td>\n",
       "      <td>GARBAGE COLLECTIONS</td>\n",
       "      <td>18320.0</td>\n",
       "      <td>TDS LANDFILL</td>\n",
       "    </tr>\n",
       "    <tr>\n",
       "      <th>26155</th>\n",
       "      <td>2021-07-09</td>\n",
       "      <td>2021-07-09 12:00:00 UTC</td>\n",
       "      <td>LITTER</td>\n",
       "      <td>1900.0</td>\n",
       "      <td>TDS LANDFILL</td>\n",
       "    </tr>\n",
       "    <tr>\n",
       "      <th>26156</th>\n",
       "      <td>2021-07-09</td>\n",
       "      <td>2021-07-09 12:00:00 UTC</td>\n",
       "      <td>LITTER</td>\n",
       "      <td>3040.0</td>\n",
       "      <td>TDS LANDFILL</td>\n",
       "    </tr>\n",
       "  </tbody>\n",
       "</table>\n",
       "<p>10691 rows × 5 columns</p>\n",
       "</div>"
      ],
      "text/plain": [
       "      report_date                load_time            load_type  load_weight  \\\n",
       "28     2021-01-02  2021-01-02 01:02:00 UTC  GARBAGE COLLECTIONS       8420.0   \n",
       "29     2021-01-02  2021-01-02 11:13:00 UTC  GARBAGE COLLECTIONS      12380.0   \n",
       "30     2021-01-02  2021-01-02 12:20:00 UTC  GARBAGE COLLECTIONS       8400.0   \n",
       "31     2021-01-02  2021-01-02 12:40:00 UTC  GARBAGE COLLECTIONS      19660.0   \n",
       "32     2021-01-02  2021-01-02 12:00:00 UTC  GARBAGE COLLECTIONS      11940.0   \n",
       "...           ...                      ...                  ...          ...   \n",
       "26057  2021-07-08  2021-07-08 12:40:00 UTC  GARBAGE COLLECTIONS      26460.0   \n",
       "26058  2021-07-08  2021-07-08 12:33:00 UTC  GARBAGE COLLECTIONS      17840.0   \n",
       "26053  2021-07-08  2021-07-08 12:47:00 UTC  GARBAGE COLLECTIONS      18320.0   \n",
       "26155  2021-07-09  2021-07-09 12:00:00 UTC               LITTER       1900.0   \n",
       "26156  2021-07-09  2021-07-09 12:00:00 UTC               LITTER       3040.0   \n",
       "\n",
       "       dropoff_site  \n",
       "28     TDS LANDFILL  \n",
       "29     TDS LANDFILL  \n",
       "30     TDS LANDFILL  \n",
       "31     TDS LANDFILL  \n",
       "32     TDS LANDFILL  \n",
       "...             ...  \n",
       "26057  TDS LANDFILL  \n",
       "26058  TDS LANDFILL  \n",
       "26053  TDS LANDFILL  \n",
       "26155  TDS LANDFILL  \n",
       "26156  TDS LANDFILL  \n",
       "\n",
       "[10691 rows x 5 columns]"
      ]
     },
     "execution_count": 201,
     "metadata": {},
     "output_type": "execute_result"
    }
   ],
   "source": [
    "df_modus_terbanyak=df[df['dropoff_site'] == 'TDS LANDFILL']\n",
    "df_modus_terbanyak"
   ]
  },
  {
   "cell_type": "code",
   "execution_count": 202,
   "metadata": {},
   "outputs": [
    {
     "name": "stderr",
     "output_type": "stream",
     "text": [
      "C:\\Users\\fachm\\AppData\\Local\\Temp\\ipykernel_15156\\1746601139.py:1: FutureWarning: Dropping of nuisance columns in DataFrame reductions (with 'numeric_only=None') is deprecated; in a future version this will raise TypeError.  Select only valid columns before calling the reduction.\n",
      "  df_modus_terbanyak.sum()\n"
     ]
    },
    {
     "data": {
      "text/plain": [
       "load_time       2021-01-02 01:02:00 UTC2021-01-02 11:13:00 UTC...\n",
       "load_type       GARBAGE COLLECTIONSGARBAGE COLLECTIONSGARBAGE ...\n",
       "load_weight                                        162176132.5394\n",
       "dropoff_site    TDS LANDFILLTDS LANDFILLTDS LANDFILLTDS LANDFI...\n",
       "dtype: object"
      ]
     },
     "execution_count": 202,
     "metadata": {},
     "output_type": "execute_result"
    }
   ],
   "source": [
    "df_modus_terbanyak.sum()"
   ]
  },
  {
   "cell_type": "code",
   "execution_count": 203,
   "metadata": {},
   "outputs": [
    {
     "data": {
      "text/plain": [
       "15169.407215358715"
      ]
     },
     "execution_count": 203,
     "metadata": {},
     "output_type": "execute_result"
    }
   ],
   "source": [
    "modus_load_weight_terbanyak = df_modus_terbanyak['load_weight'].mean()\n",
    "modus_load_weight_terbanyak\n"
   ]
  },
  {
   "cell_type": "code",
   "execution_count": 204,
   "metadata": {},
   "outputs": [
    {
     "data": {
      "text/plain": [
       "(-1668.7007690319188, 32007.51519974935)"
      ]
     },
     "execution_count": 204,
     "metadata": {},
     "output_type": "execute_result"
    }
   ],
   "source": [
    "ci_modus_terbanyak = stats.norm.interval(0.95, df_modus_terbanyak['load_weight'].mean(), df_modus_terbanyak['load_weight'].std())\n",
    "ci_modus_terbanyak"
   ]
  },
  {
   "cell_type": "code",
   "execution_count": 205,
   "metadata": {},
   "outputs": [
    {
     "data": {
      "text/plain": [
       "True"
      ]
     },
     "execution_count": 205,
     "metadata": {},
     "output_type": "execute_result"
    }
   ],
   "source": [
    "# Diantara interval atau tidak ?\n",
    "ci_modus=ci[0] <= modus_load_weight_terbanyak <= ci[1]\n",
    "ci_modus"
   ]
  },
  {
   "cell_type": "markdown",
   "metadata": {},
   "source": [
    "Data Confidience Interval(ci) yang diperolah yaitu (-1668.7007690319188, 32007.51519974935) berdasarkan  modus tertinggi yaitu di site TDS LANDFILLTDS dengan mean sebesar 15169.407215358715 dengan banyak data(n) 10691,nilai ci tersebut dinyatakan valid sebesar 95%\n",
    "\n",
    "Kesimpulannya adalah pemerintah perlu menambah site karena site TDS LANDFILLTDS yang memiliki modus tertinggi karena memiliki data valid sesuai dan berpotensi mengalami kenaikan load_weight tiap bulannya. Kapasitas yang diperlukan sekitar 32007"
   ]
  },
  {
   "cell_type": "markdown",
   "metadata": {},
   "source": [
    "## 8.Buatlah analisa uji hipotesis dari data tersebut dari data yang tersedia"
   ]
  },
  {
   "cell_type": "code",
   "execution_count": 206,
   "metadata": {},
   "outputs": [
    {
     "data": {
      "text/plain": [
       "<AxesSubplot:ylabel='load_weight'>"
      ]
     },
     "execution_count": 206,
     "metadata": {},
     "output_type": "execute_result"
    },
    {
     "data": {
      "image/png": "[encoded data removed]",
      "text/plain": [
       "<Figure size 432x288 with 1 Axes>"
      ]
     },
     "metadata": {
      "needs_background": "light"
     },
     "output_type": "display_data"
    }
   ],
   "source": [
    "sns.boxplot(data=df_Hornsby_clean, y= 'load_weight')"
   ]
  },
  {
   "cell_type": "code",
   "execution_count": 207,
   "metadata": {},
   "outputs": [
    {
     "data": {
      "text/html": [
       "<div>\n",
       "<style scoped>\n",
       "    .dataframe tbody tr th:only-of-type {\n",
       "        vertical-align: middle;\n",
       "    }\n",
       "\n",
       "    .dataframe tbody tr th {\n",
       "        vertical-align: top;\n",
       "    }\n",
       "\n",
       "    .dataframe thead th {\n",
       "        text-align: right;\n",
       "    }\n",
       "</style>\n",
       "<table border=\"1\" class=\"dataframe\">\n",
       "  <thead>\n",
       "    <tr style=\"text-align: right;\">\n",
       "      <th></th>\n",
       "      <th>report_date</th>\n",
       "      <th>load_time</th>\n",
       "      <th>load_type</th>\n",
       "      <th>load_weight</th>\n",
       "      <th>dropoff_site</th>\n",
       "    </tr>\n",
       "  </thead>\n",
       "  <tbody>\n",
       "  </tbody>\n",
       "</table>\n",
       "</div>"
      ],
      "text/plain": [
       "Empty DataFrame\n",
       "Columns: [report_date, load_time, load_type, load_weight, dropoff_site]\n",
       "Index: []"
      ]
     },
     "execution_count": 207,
     "metadata": {},
     "output_type": "execute_result"
    }
   ],
   "source": [
    "df_Hornsby_clean[df_Hornsby_clean['load_weight']>15000]"
   ]
  },
  {
   "cell_type": "code",
   "execution_count": 208,
   "metadata": {},
   "outputs": [
    {
     "data": {
      "text/plain": [
       "dropoff_site\n",
       "HORNSBY BEND    6290.0\n",
       "Name: load_weight, dtype: float64"
      ]
     },
     "execution_count": 208,
     "metadata": {},
     "output_type": "execute_result"
    }
   ],
   "source": [
    "#median\n",
    "df_Hornsby_clean.groupby('dropoff_site')['load_weight'].median()"
   ]
  },
  {
   "cell_type": "code",
   "execution_count": 209,
   "metadata": {},
   "outputs": [
    {
     "data": {
      "text/plain": [
       "dropoff_site\n",
       "HORNSBY BEND    6333.229426\n",
       "Name: load_weight, dtype: float64"
      ]
     },
     "execution_count": 209,
     "metadata": {},
     "output_type": "execute_result"
    }
   ],
   "source": [
    "# mean\n",
    "df_Hornsby_clean.groupby('dropoff_site')['load_weight'].mean()"
   ]
  },
  {
   "cell_type": "markdown",
   "metadata": {},
   "source": [
    "1. Apakah rata - rata 'load_weight' di site Hornsby Bend berbeda signifikan dengan nilai 6290?"
   ]
  },
  {
   "cell_type": "markdown",
   "metadata": {},
   "source": [
    "load weigh di Hornsby Bend memiliki rata-rata load weight sebesar 6333 berdasarkan data tersebut dapat dibuat hipotesis berupa:\n",
    "\n",
    "- H0 = Rata-rata load weight  =  6290.0\n",
    "- H1 = Rata-rata load weight !=  6290.0"
   ]
  },
  {
   "cell_type": "code",
   "execution_count": 218,
   "metadata": {},
   "outputs": [
    {
     "name": "stdout",
     "output_type": "stream",
     "text": [
      "P-value:  0.5336465592750176\n",
      "t-statistics:  0.622583878912927\n"
     ]
    }
   ],
   "source": [
    "#ttest 1 sample 2 tailed\n",
    "t_stat,p_val = stats.ttest_1samp(df_Hornsby_clean['load_weight'], 6290)\n",
    "print('P-value: ', p_val)\n",
    "print('t-statistics: ', t_stat)"
   ]
  },
  {
   "cell_type": "code",
   "execution_count": 211,
   "metadata": {},
   "outputs": [
    {
     "data": {
      "text/plain": [
       "<matplotlib.legend.Legend at 0x1d510b4be50>"
      ]
     },
     "execution_count": 211,
     "metadata": {},
     "output_type": "execute_result"
    },
    {
     "data": {
      "text/plain": [
       "<Figure size 1152x360 with 0 Axes>"
      ]
     },
     "metadata": {},
     "output_type": "display_data"
    },
    {
     "data": {
      "image/png": "[encoded data removed]",
      "text/plain": [
       "<Figure size 360x360 with 1 Axes>"
      ]
     },
     "metadata": {
      "needs_background": "light"
     },
     "output_type": "display_data"
    }
   ],
   "source": [
    "#simulasi\n",
    "\n",
    "pop = np.random.normal(df_Hornsby_clean['load_weight'].mean(), df_Hornsby_clean['load_weight'].std(), 10000 )\n",
    "# confidence interval with critical value 0.05\n",
    "ci = stats.norm.interval(0.95, df_Hornsby_clean['load_weight'].mean(), df_Hornsby_clean['load_weight'].std())\n",
    "\n",
    "plt.figure(figsize=(16,5))\n",
    "#memvisualisasikan simulasi pdf\n",
    "sns.displot(pop, label= \"Data Frame Hornsby Bend (Populasi)\", color='blue')\n",
    "plt.axvline(df_Hornsby_clean['load_weight'].mean(), color='red', linewidth=2, label= \"Data Frame Hornsby Bend (Mean)\")\n",
    "\n",
    "#membuat garis confidence interval\n",
    "plt.axvline(ci[1], color='green', linestyle='dashed', linewidth=2, label= 'confidence threshold of 95%')\n",
    "plt.axvline(ci[0], color='green', linestyle='dashed', linewidth=2, label= 'confidence threshold of 95%')\n",
    "\n",
    "#membuat garis p-value/alternative hypotesis\n",
    "plt.axvline(pop.mean() + t_stat*pop.std(), color='black', linestyle='dashed', linewidth=2, label = 'Alternative Hypotesis')\n",
    "plt.axvline(pop.mean() + t_stat*pop.std(), color='black', linestyle='dashed', linewidth=2)\n",
    "plt.legend()"
   ]
  },
  {
   "cell_type": "markdown",
   "metadata": {},
   "source": [
    "P-value: 0.5336465592750176\n",
    "\n",
    "alpha  : 0.05\n",
    "\n",
    "H0 gagal ditolak karena P-value > alpha, sehingga keputusannya adalah kesimpulan yang sesuai dengan keadaan saat penelitian ini adalah yang tertulis di H0 yaitu rata-rata load weight sama dengan 6290\n"
   ]
  },
  {
   "cell_type": "markdown",
   "metadata": {},
   "source": [
    "Jawab pertanyaan berikut untuk mengasah pemahaman konsepmu!\n",
    "\n",
    "1. Teknik apa yang kamu pilih untuk handling outlier? jelaskan alasannya!\n",
    "\n",
    "2. Apa konsep dibalik confidence interval sehingga kita dapat menggunakannya untuk menyelesaikan langkah pada nomor 7?\n",
    "\n",
    "3. Jelaskan jenis uji hipotesis apa yang kamu terapkan dan mengapa?"
   ]
  },
  {
   "cell_type": "markdown",
   "metadata": {},
   "source": [
    "1. Teknik yang saya pilih adalah teknik trimming. Tujuannya adalah untuk mengeliminasi data yang berada di bawah lower boundary dan di atas upper boundary\n",
    "\n",
    "2. konsepnya adalah menggunakan 2 parameter untuk mengukur keakuratan sebuah sample mean terhadap populasi mean. Rentang nilai yg berada untuk suatu sample mean di mana kemungkinan population mean masuk dalam rentang sebesar 95%. jadi, misalnya terdapat 100 samples data maka peluang kemungkinan  95 sample mencakup nilai populatioon mean. CI yang diperoleh pada soal nomor 7 menjadi acuan untuk kapasitas yang diperlukan untuk site baru berdasarkan site mean terbanyak adalah sebesar kurang lebih 33770 dan berdasarkan site sesuai modus adalah kurang lebih 32007 \n",
    "\n",
    "3. Jenis uji hipotesis yang digunakan adalah T-test 1 sample 2 Tailed karena sampel yang diuji hanya 1 sample dan 2-tailed digunakan untuk menguji hipotesis yang tidak terarah. pada peneliitian ini hanya menguji 1 sampel dan membandingkan rata rata dari sampel tersebut"
   ]
  },
  {
   "cell_type": "markdown",
   "metadata": {},
   "source": [
    "## Problem 2 (Math/Calculus)"
   ]
  },
  {
   "cell_type": "code",
   "execution_count": 212,
   "metadata": {},
   "outputs": [
    {
     "data": {
      "text/html": [
       "<div>\n",
       "<style scoped>\n",
       "    .dataframe tbody tr th:only-of-type {\n",
       "        vertical-align: middle;\n",
       "    }\n",
       "\n",
       "    .dataframe tbody tr th {\n",
       "        vertical-align: top;\n",
       "    }\n",
       "\n",
       "    .dataframe thead th {\n",
       "        text-align: right;\n",
       "    }\n",
       "</style>\n",
       "<table border=\"1\" class=\"dataframe\">\n",
       "  <thead>\n",
       "    <tr style=\"text-align: right;\">\n",
       "      <th></th>\n",
       "      <th>load_weight</th>\n",
       "    </tr>\n",
       "    <tr>\n",
       "      <th>report_date</th>\n",
       "      <th></th>\n",
       "    </tr>\n",
       "  </thead>\n",
       "  <tbody>\n",
       "    <tr>\n",
       "      <th>2021-01-02</th>\n",
       "      <td>2170130.0</td>\n",
       "    </tr>\n",
       "    <tr>\n",
       "      <th>2021-01-04</th>\n",
       "      <td>2920260.0</td>\n",
       "    </tr>\n",
       "    <tr>\n",
       "      <th>2021-01-05</th>\n",
       "      <td>2388540.0</td>\n",
       "    </tr>\n",
       "    <tr>\n",
       "      <th>2021-01-06</th>\n",
       "      <td>2396550.0</td>\n",
       "    </tr>\n",
       "    <tr>\n",
       "      <th>2021-01-07</th>\n",
       "      <td>2438330.0</td>\n",
       "    </tr>\n",
       "    <tr>\n",
       "      <th>...</th>\n",
       "      <td>...</td>\n",
       "    </tr>\n",
       "    <tr>\n",
       "      <th>2021-07-05</th>\n",
       "      <td>1897290.0</td>\n",
       "    </tr>\n",
       "    <tr>\n",
       "      <th>2021-07-06</th>\n",
       "      <td>1921640.0</td>\n",
       "    </tr>\n",
       "    <tr>\n",
       "      <th>2021-07-07</th>\n",
       "      <td>1553080.0</td>\n",
       "    </tr>\n",
       "    <tr>\n",
       "      <th>2021-07-08</th>\n",
       "      <td>1417650.0</td>\n",
       "    </tr>\n",
       "    <tr>\n",
       "      <th>2021-07-09</th>\n",
       "      <td>120340.0</td>\n",
       "    </tr>\n",
       "  </tbody>\n",
       "</table>\n",
       "<p>165 rows × 1 columns</p>\n",
       "</div>"
      ],
      "text/plain": [
       "             load_weight\n",
       "report_date             \n",
       "2021-01-02     2170130.0\n",
       "2021-01-04     2920260.0\n",
       "2021-01-05     2388540.0\n",
       "2021-01-06     2396550.0\n",
       "2021-01-07     2438330.0\n",
       "...                  ...\n",
       "2021-07-05     1897290.0\n",
       "2021-07-06     1921640.0\n",
       "2021-07-07     1553080.0\n",
       "2021-07-08     1417650.0\n",
       "2021-07-09      120340.0\n",
       "\n",
       "[165 rows x 1 columns]"
      ]
     },
     "execution_count": 212,
     "metadata": {},
     "output_type": "execute_result"
    }
   ],
   "source": [
    "forecasting=df.groupby(\"report_date\").sum()\n",
    "forecasting"
   ]
  },
  {
   "cell_type": "code",
   "execution_count": 213,
   "metadata": {},
   "outputs": [],
   "source": [
    "df_test = df.groupby(\"report_date\")['load_weight'].sum()\n",
    "df_test[\"diff\"] = df_test.diff()"
   ]
  },
  {
   "cell_type": "code",
   "execution_count": 214,
   "metadata": {},
   "outputs": [
    {
     "data": {
      "text/plain": [
       "array([ 7.50130000e+05, -5.31720000e+05,  8.01000000e+03,  4.17800000e+04,\n",
       "       -5.93380000e+05, -1.81681000e+06,  2.46847000e+06, -4.22690000e+05,\n",
       "       -5.34000000e+03, -3.57300000e+04, -3.15860000e+05, -1.68213000e+06,\n",
       "        2.40679000e+06, -2.67390000e+05, -7.91300000e+04, -2.97600000e+04,\n",
       "       -2.86770000e+05, -1.59572000e+06,  2.31477000e+06, -4.40200000e+05,\n",
       "        3.03900000e+04,  3.62200000e+04, -3.88890000e+05, -1.73503000e+06,\n",
       "        2.43934000e+06, -3.60620000e+05, -8.69800000e+04,  1.16700000e+05,\n",
       "       -3.72670000e+05, -1.73345000e+06,  1.17200000e+04,  2.60815000e+06,\n",
       "       -4.94950000e+05, -3.38800000e+04, -1.31158000e+06,  1.08996000e+06,\n",
       "       -1.83900000e+06,  1.05132000e+06,  2.66098000e+06, -5.04400000e+05,\n",
       "        7.47900000e+04,  6.37300000e+04, -9.73200000e+05, -2.16812000e+06,\n",
       "        1.59200000e+04,  2.95084000e+06, -2.95220000e+05, -1.06440000e+05,\n",
       "       -3.87200000e+04, -3.54825000e+05, -2.17421500e+06, -5.08200000e+04,\n",
       "        3.08313000e+06, -2.78730000e+05, -1.98670000e+05, -1.69280000e+05,\n",
       "       -2.62150000e+05, -2.10616000e+06,  3.72080000e+05,  2.20590000e+06,\n",
       "       -1.49780000e+05, -2.20640000e+05,  6.34900000e+04, -4.19990000e+05,\n",
       "       -1.92788000e+06,  1.61740000e+05,  2.63209012e+06, -3.11330009e+05,\n",
       "        5.48198836e+04,  1.36000000e+03, -3.80160000e+05, -1.78233200e+06,\n",
       "       -2.99468000e+05,  2.72874000e+06, -1.69620000e+05, -4.44240000e+05,\n",
       "        1.67560000e+05, -6.81950000e+05, -1.84285000e+06,  2.07841000e+06,\n",
       "        3.40730000e+05, -2.77000000e+05,  4.95480000e+04, -2.45628000e+05,\n",
       "       -1.84880000e+06,  2.56385000e+06,  2.65700000e+04, -1.59580000e+05,\n",
       "       -1.34550000e+05, -3.93670000e+05, -1.73158000e+06, -2.76060000e+05,\n",
       "        2.70263000e+06, -3.44430000e+05, -1.30000000e+04, -1.42960000e+05,\n",
       "       -3.44820000e+05, -1.55664000e+06,  2.21223800e+06, -2.21558000e+05,\n",
       "        1.02540000e+05, -2.69040000e+05, -2.88940000e+05, -1.68574000e+06,\n",
       "        2.44275000e+06, -3.18670000e+05,  1.12570000e+05, -1.42750000e+05,\n",
       "       -2.08950000e+05, -1.76581000e+06,  2.31266000e+06, -2.78750000e+05,\n",
       "       -1.21300000e+04,  2.16300000e+04, -4.28030000e+05, -1.77570000e+06,\n",
       "        2.55128000e+06, -4.17620000e+05, -3.30000000e+03, -1.91250000e+05,\n",
       "       -2.90640000e+05, -1.75635000e+06,  2.32110900e+06, -1.31819000e+05,\n",
       "        6.99070000e+04,  4.96730000e+04, -5.73040000e+05, -1.72889000e+06,\n",
       "       -8.54000000e+03,  2.60093000e+06, -2.29730000e+05,  7.28100000e+04,\n",
       "       -1.39500000e+04, -4.33340000e+05, -1.74630000e+06,  2.53482000e+06,\n",
       "       -3.35650000e+05, -1.11159702e+05, -2.02980000e+01, -4.82900000e+05,\n",
       "       -1.65831000e+06,  2.44171000e+06, -4.95450000e+05,  3.66400000e+04,\n",
       "       -3.47500000e+04, -4.03210000e+05, -1.69620000e+06,  2.53511000e+06,\n",
       "       -4.67400000e+05,  2.48500000e+04, -9.73500000e+04, -5.45780000e+05,\n",
       "       -1.49161000e+06,  2.49019000e+06, -4.96800000e+05, -3.38700000e+04,\n",
       "        8.50000000e+02, -3.39450000e+05, -1.41848000e+06,  1.68905000e+06,\n",
       "        2.43500000e+04, -3.68560000e+05, -1.35430000e+05, -1.29731000e+06])"
      ]
     },
     "execution_count": 214,
     "metadata": {},
     "output_type": "execute_result"
    }
   ],
   "source": [
    "v = np.diff(forecasting[\"load_weight\"])/np.diff(range(165))\n",
    "v"
   ]
  },
  {
   "cell_type": "code",
   "execution_count": 215,
   "metadata": {},
   "outputs": [
    {
     "data": {
      "text/plain": [
       "report_date\n",
       "2021-01-02          NaN\n",
       "2021-01-04          NaN\n",
       "2021-01-05   -1281850.0\n",
       "2021-01-06     539730.0\n",
       "2021-01-07      33770.0\n",
       "                ...    \n",
       "2021-07-05    3107530.0\n",
       "2021-07-06   -1664700.0\n",
       "2021-07-07    -392910.0\n",
       "2021-07-08     233130.0\n",
       "2021-07-09   -1161880.0\n",
       "Name: load_weight, Length: 165, dtype: float64"
      ]
     },
     "execution_count": 215,
     "metadata": {},
     "output_type": "execute_result"
    }
   ],
   "source": [
    "df_test[\"diff\"].diff()"
   ]
  },
  {
   "cell_type": "code",
   "execution_count": 216,
   "metadata": {},
   "outputs": [
    {
     "data": {
      "text/html": [
       "<div>\n",
       "<style scoped>\n",
       "    .dataframe tbody tr th:only-of-type {\n",
       "        vertical-align: middle;\n",
       "    }\n",
       "\n",
       "    .dataframe tbody tr th {\n",
       "        vertical-align: top;\n",
       "    }\n",
       "\n",
       "    .dataframe thead th {\n",
       "        text-align: right;\n",
       "    }\n",
       "</style>\n",
       "<table border=\"1\" class=\"dataframe\">\n",
       "  <thead>\n",
       "    <tr style=\"text-align: right;\">\n",
       "      <th></th>\n",
       "      <th>load_weight</th>\n",
       "    </tr>\n",
       "    <tr>\n",
       "      <th>report_date</th>\n",
       "      <th></th>\n",
       "    </tr>\n",
       "  </thead>\n",
       "  <tbody>\n",
       "    <tr>\n",
       "      <th>2021-01-02</th>\n",
       "      <td>NaN</td>\n",
       "    </tr>\n",
       "    <tr>\n",
       "      <th>2021-01-04</th>\n",
       "      <td>750130.0</td>\n",
       "    </tr>\n",
       "    <tr>\n",
       "      <th>2021-01-05</th>\n",
       "      <td>-531720.0</td>\n",
       "    </tr>\n",
       "    <tr>\n",
       "      <th>2021-01-06</th>\n",
       "      <td>8010.0</td>\n",
       "    </tr>\n",
       "    <tr>\n",
       "      <th>2021-01-07</th>\n",
       "      <td>41780.0</td>\n",
       "    </tr>\n",
       "    <tr>\n",
       "      <th>...</th>\n",
       "      <td>...</td>\n",
       "    </tr>\n",
       "    <tr>\n",
       "      <th>2021-07-05</th>\n",
       "      <td>1689050.0</td>\n",
       "    </tr>\n",
       "    <tr>\n",
       "      <th>2021-07-06</th>\n",
       "      <td>24350.0</td>\n",
       "    </tr>\n",
       "    <tr>\n",
       "      <th>2021-07-07</th>\n",
       "      <td>-368560.0</td>\n",
       "    </tr>\n",
       "    <tr>\n",
       "      <th>2021-07-08</th>\n",
       "      <td>-135430.0</td>\n",
       "    </tr>\n",
       "    <tr>\n",
       "      <th>2021-07-09</th>\n",
       "      <td>-1297310.0</td>\n",
       "    </tr>\n",
       "  </tbody>\n",
       "</table>\n",
       "<p>165 rows × 1 columns</p>\n",
       "</div>"
      ],
      "text/plain": [
       "             load_weight\n",
       "report_date             \n",
       "2021-01-02           NaN\n",
       "2021-01-04      750130.0\n",
       "2021-01-05     -531720.0\n",
       "2021-01-06        8010.0\n",
       "2021-01-07       41780.0\n",
       "...                  ...\n",
       "2021-07-05     1689050.0\n",
       "2021-07-06       24350.0\n",
       "2021-07-07     -368560.0\n",
       "2021-07-08     -135430.0\n",
       "2021-07-09    -1297310.0\n",
       "\n",
       "[165 rows x 1 columns]"
      ]
     },
     "execution_count": 216,
     "metadata": {},
     "output_type": "execute_result"
    }
   ],
   "source": [
    "df.groupby(\"report_date\").sum().diff()"
   ]
  },
  {
   "cell_type": "code",
   "execution_count": 217,
   "metadata": {},
   "outputs": [
    {
     "data": {
      "text/plain": [
       "1176970.0"
      ]
     },
     "execution_count": 217,
     "metadata": {},
     "output_type": "execute_result"
    }
   ],
   "source": [
    "Weight_Tomorrow = forecasting[\"load_weight\"][-1] + v[-1] * 1\n",
    "abs(Weight_Tomorrow)"
   ]
  },
  {
   "cell_type": "markdown",
   "metadata": {},
   "source": [
    "Jawab pertanyaan berikut untuk mengasah pemahaman konsepmu!\n",
    "\n",
    "1. Untuk menghitung turunan pertama dapat digunakan metode simbolik dan numerik, untuk kasus ini, teknik apa yang kamu gunakan?\n",
    "2. Apakah kamu membutuhkan fungsi matematis untuk menghitung turunannya? (ya/tidak) berikan alasanmu!\n",
    "3. berapa load weight yang kamu perkirakan di hari esok (10 Juli 2021)?"
   ]
  },
  {
   "cell_type": "markdown",
   "metadata": {},
   "source": [
    "1. saya menggunakan numerical, .diff()\n",
    "\n",
    "2. iya, saya membutuhkan fungsi .diff() untuk mencari selisih load weight \n",
    "\n",
    "3. v = w1 - w0 / (t1 - t0)\n",
    "   v = 120340.0 - 1417650.0 / 1\n",
    "   v = -1297310\n",
    "\n",
    "   w tgl 10 = w tgl 9 + (v * 1)\n",
    "   w tgl 10 = 120340 +  (-1297310)\n",
    "   w tgl 10 = 1176970\n",
    "   "
   ]
  },
  {
   "cell_type": "markdown",
   "metadata": {},
   "source": [
    "## Conclusions, Assumptions, Overall Analysis\n",
    " Berdasarkan data yang tersedia, pemerintah sebaiknya perlu mempertimbangkan untuk menambah site baru karena site dengan modus dan mean tertinggi terindikasi mengalami overload berdasarkan pola load weight tiap bulan sehingga untuk mengantisipasi keadaan tersebut perlu ditambah site baru.\n",
    " "
   ]
  }
 ],
 "metadata": {
  "kernelspec": {
   "display_name": "Python 3.9.12 ('base')",
   "language": "python",
   "name": "python3"
  },
  "language_info": {
   "codemirror_mode": {
    "name": "ipython",
    "version": 3
   },
   "file_extension": ".py",
   "mimetype": "text/x-python",
   "name": "python",
   "nbconvert_exporter": "python",
   "pygments_lexer": "ipython3",
   "version": "3.9.12"
  },
  "orig_nbformat": 4,
  "vscode": {
   "interpreter": {
    "hash": "5179d32cf6ec497baf3f8a3ef987cc77c5d2dc691fdde20a56316522f61a7323"
   }
  }
 },
 "nbformat": 4,
 "nbformat_minor": 2
}
